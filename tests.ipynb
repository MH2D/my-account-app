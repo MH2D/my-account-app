{
 "cells": [
  {
   "cell_type": "code",
   "execution_count": 1,
   "metadata": {},
   "outputs": [],
   "source": [
    "import sqlite3\n",
    "import json\n",
    "from pathlib import Path\n",
    "from datetime import date\n",
    "import datetime as dt\n",
    "import pandas as pd\n",
    "from utils.global_utils import *\n",
    "from st_files_connection import FilesConnection\n",
    "from google.cloud import storage\n",
    "from utils.my_variables import *\n",
    "from collections import defaultdict\n",
    "# DATA_PATH = Path('data')\n",
    "# CONN = sqlite3.connect(DATA_PATH / 'account_management.db')\n",
    "# CURSOR = CONN.cursor()\n"
   ]
  },
  {
   "cell_type": "code",
   "execution_count": 95,
   "metadata": {},
   "outputs": [],
   "source": [
    "limits_df = read_csv_from_gcs('ugo_budget_limits.csv', bucket_name=BUCKET_NAME)\n",
    "expenses_df, recettes_df = get_expenses_recettes('ugo')"
   ]
  },
  {
   "cell_type": "code",
   "execution_count": 30,
   "metadata": {},
   "outputs": [],
   "source": [
    "limits_df.limit = 800"
   ]
  },
  {
   "cell_type": "code",
   "execution_count": 97,
   "metadata": {},
   "outputs": [
    {
     "data": {
      "text/plain": [
       "'total limited budget = 2339€'"
      ]
     },
     "execution_count": 97,
     "metadata": {},
     "output_type": "execute_result"
    }
   ],
   "source": [
    "f'Total limited budget = {limits_df.limit.sum():.0f}€'"
   ]
  },
  {
   "cell_type": "code",
   "execution_count": 31,
   "metadata": {},
   "outputs": [
    {
     "data": {
      "text/plain": [
       "'2023-09-01'"
      ]
     },
     "execution_count": 31,
     "metadata": {},
     "output_type": "execute_result"
    }
   ],
   "source": [
    "date.today().replace(day=1).strftime(FRENCH_DATEFORMAT)"
   ]
  },
  {
   "cell_type": "code",
   "execution_count": 32,
   "metadata": {},
   "outputs": [],
   "source": [
    "this_month_expenses = expenses_df.sort_index()[date.today().replace(day=1).strftime(FRENCH_DATEFORMAT):].copy()"
   ]
  },
  {
   "cell_type": "code",
   "execution_count": 33,
   "metadata": {},
   "outputs": [],
   "source": [
    "this_month_expenses = this_month_expenses.groupby('category').agg({'amount':'sum'})"
   ]
  },
  {
   "cell_type": "code",
   "execution_count": 34,
   "metadata": {},
   "outputs": [],
   "source": [
    "limits_and_expenses = pd.merge(limits_df, this_month_expenses, right_index=True, left_on='category', how='outer').fillna(0)"
   ]
  },
  {
   "cell_type": "code",
   "execution_count": 77,
   "metadata": {},
   "outputs": [],
   "source": [
    "limits_and_expenses_for_plot = limits_and_expenses.copy()"
   ]
  },
  {
   "cell_type": "code",
   "execution_count": 78,
   "metadata": {},
   "outputs": [],
   "source": [
    "limits_and_expenses_for_plot['limit_reached'] = limits_and_expenses_for_plot.amount / limits_and_expenses_for_plot.limit\n",
    "limits_and_expenses_for_plot['available_budget'] = limits_and_expenses_for_plot.limit - limits_and_expenses_for_plot.amount"
   ]
  },
  {
   "cell_type": "code",
   "execution_count": 84,
   "metadata": {},
   "outputs": [],
   "source": [
    "limits_and_expenses_for_plot['limit_text']= limits_and_expenses_for_plot.limit.apply(lambda x: f'Limit: {x:.0f}€')\n",
    "limits_and_expenses_for_plot['avail_budg_text']= limits_and_expenses_for_plot.available_budget.apply(\n",
    "    lambda x: f'Left: {x:.0f}€' if x > 0 else 'Nothing left !'\n",
    "    )"
   ]
  },
  {
   "cell_type": "code",
   "execution_count": 92,
   "metadata": {},
   "outputs": [],
   "source": [
    "limits_df = read_csv_from_gcs('cc_budget_limits.csv', bucket_name=BUCKET_NAME)"
   ]
  },
  {
   "cell_type": "code",
   "execution_count": 93,
   "metadata": {},
   "outputs": [
    {
     "data": {
      "text/plain": [
       "0"
      ]
     },
     "execution_count": 93,
     "metadata": {},
     "output_type": "execute_result"
    }
   ],
   "source": [
    "len(limits_df)"
   ]
  },
  {
   "cell_type": "code",
   "execution_count": 91,
   "metadata": {},
   "outputs": [
    {
     "data": {
      "application/vnd.plotly.v1+json": {
       "config": {
        "plotlyServerURL": "https://plot.ly"
       },
       "data": [
        {
         "marker": {
          "color": [
           "#008000",
           "#008000",
           "#FFFF00",
           "#FF0000",
           "#008000",
           "#008000",
           "#008000",
           "#008000",
           "#008000",
           "#008000",
           "#008000"
          ]
         },
         "name": "\\% Limit reached",
         "orientation": "h",
         "showlegend": false,
         "text": [
          "Left: 800€",
          "Left: 680€",
          "Left: 91€",
          "Nothing left !",
          "Left: 800€",
          "Left: 800€",
          "Left: 777€",
          "Left: 675€",
          "Left: 750€",
          "Left: 800€",
          "Left: 796€"
         ],
         "textposition": "inside",
         "type": "bar",
         "x": [
          0,
          0.14965,
          0.886225,
          1.356475,
          0,
          0,
          0.029224999999999998,
          0.156325,
          0.0625,
          0,
          0.00475
         ],
         "y": [
          "Alimentation",
          "Les pêchés du soir",
          "Logement",
          "Transport",
          "Entretien personnel",
          "Autres",
          "Achats",
          "Vacances",
          "Épargne",
          "Abonnements mensuels",
          "Frais"
         ]
        },
        {
         "marker": {
          "color": "rgba(0,0,0,0)",
          "line": {
           "color": "black",
           "width": 2
          }
         },
         "orientation": "h",
         "showlegend": false,
         "text": [
          "Limit: 800€",
          "Limit: 800€",
          "Limit: 800€",
          "Limit: 800€",
          "Limit: 800€",
          "Limit: 800€",
          "Limit: 800€",
          "Limit: 800€",
          "Limit: 800€",
          "Limit: 800€",
          "Limit: 800€"
         ],
         "textposition": "outside",
         "type": "bar",
         "x": [
          1,
          1,
          1,
          1,
          1,
          1,
          1,
          1,
          1,
          1,
          1
         ],
         "y": [
          "Alimentation",
          "Les pêchés du soir",
          "Logement",
          "Transport",
          "Entretien personnel",
          "Autres",
          "Achats",
          "Vacances",
          "Épargne",
          "Abonnements mensuels",
          "Frais"
         ]
        }
       ],
       "layout": {
        "barmode": "overlay",
        "template": {
         "data": {
          "candlestick": [
           {
            "decreasing": {
             "line": {
              "color": "#000033"
             }
            },
            "increasing": {
             "line": {
              "color": "#000032"
             }
            },
            "type": "candlestick"
           }
          ],
          "contour": [
           {
            "colorscale": [
             [
              0,
              "#000011"
             ],
             [
              0.1111111111111111,
              "#000012"
             ],
             [
              0.2222222222222222,
              "#000013"
             ],
             [
              0.3333333333333333,
              "#000014"
             ],
             [
              0.4444444444444444,
              "#000015"
             ],
             [
              0.5555555555555556,
              "#000016"
             ],
             [
              0.6666666666666666,
              "#000017"
             ],
             [
              0.7777777777777778,
              "#000018"
             ],
             [
              0.8888888888888888,
              "#000019"
             ],
             [
              1,
              "#000020"
             ]
            ],
            "type": "contour"
           }
          ],
          "contourcarpet": [
           {
            "colorscale": [
             [
              0,
              "#000011"
             ],
             [
              0.1111111111111111,
              "#000012"
             ],
             [
              0.2222222222222222,
              "#000013"
             ],
             [
              0.3333333333333333,
              "#000014"
             ],
             [
              0.4444444444444444,
              "#000015"
             ],
             [
              0.5555555555555556,
              "#000016"
             ],
             [
              0.6666666666666666,
              "#000017"
             ],
             [
              0.7777777777777778,
              "#000018"
             ],
             [
              0.8888888888888888,
              "#000019"
             ],
             [
              1,
              "#000020"
             ]
            ],
            "type": "contourcarpet"
           }
          ],
          "heatmap": [
           {
            "colorscale": [
             [
              0,
              "#000011"
             ],
             [
              0.1111111111111111,
              "#000012"
             ],
             [
              0.2222222222222222,
              "#000013"
             ],
             [
              0.3333333333333333,
              "#000014"
             ],
             [
              0.4444444444444444,
              "#000015"
             ],
             [
              0.5555555555555556,
              "#000016"
             ],
             [
              0.6666666666666666,
              "#000017"
             ],
             [
              0.7777777777777778,
              "#000018"
             ],
             [
              0.8888888888888888,
              "#000019"
             ],
             [
              1,
              "#000020"
             ]
            ],
            "type": "heatmap"
           }
          ],
          "histogram2d": [
           {
            "colorscale": [
             [
              0,
              "#000011"
             ],
             [
              0.1111111111111111,
              "#000012"
             ],
             [
              0.2222222222222222,
              "#000013"
             ],
             [
              0.3333333333333333,
              "#000014"
             ],
             [
              0.4444444444444444,
              "#000015"
             ],
             [
              0.5555555555555556,
              "#000016"
             ],
             [
              0.6666666666666666,
              "#000017"
             ],
             [
              0.7777777777777778,
              "#000018"
             ],
             [
              0.8888888888888888,
              "#000019"
             ],
             [
              1,
              "#000020"
             ]
            ],
            "type": "histogram2d"
           }
          ],
          "icicle": [
           {
            "textfont": {
             "color": "white"
            },
            "type": "icicle"
           }
          ],
          "sankey": [
           {
            "textfont": {
             "color": "#000036"
            },
            "type": "sankey"
           }
          ],
          "scatter": [
           {
            "marker": {
             "line": {
              "width": 0
             }
            },
            "type": "scatter"
           }
          ],
          "table": [
           {
            "cells": {
             "fill": {
              "color": "#000038"
             },
             "font": {
              "color": "#000037"
             },
             "line": {
              "color": "#000039"
             }
            },
            "header": {
             "fill": {
              "color": "#000040"
             },
             "font": {
              "color": "#000036"
             },
             "line": {
              "color": "#000039"
             }
            },
            "type": "table"
           }
          ],
          "waterfall": [
           {
            "connector": {
             "line": {
              "color": "#000036",
              "width": 2
             }
            },
            "decreasing": {
             "marker": {
              "color": "#000033"
             }
            },
            "increasing": {
             "marker": {
              "color": "#000032"
             }
            },
            "totals": {
             "marker": {
              "color": "#000034"
             }
            },
            "type": "waterfall"
           }
          ]
         },
         "layout": {
          "coloraxis": {
           "colorscale": [
            [
             0,
             "#000011"
            ],
            [
             0.1111111111111111,
             "#000012"
            ],
            [
             0.2222222222222222,
             "#000013"
            ],
            [
             0.3333333333333333,
             "#000014"
            ],
            [
             0.4444444444444444,
             "#000015"
            ],
            [
             0.5555555555555556,
             "#000016"
            ],
            [
             0.6666666666666666,
             "#000017"
            ],
            [
             0.7777777777777778,
             "#000018"
            ],
            [
             0.8888888888888888,
             "#000019"
            ],
            [
             1,
             "#000020"
            ]
           ]
          },
          "colorscale": {
           "diverging": [
            [
             0,
             "#000021"
            ],
            [
             0.1,
             "#000022"
            ],
            [
             0.2,
             "#000023"
            ],
            [
             0.3,
             "#000024"
            ],
            [
             0.4,
             "#000025"
            ],
            [
             0.5,
             "#000026"
            ],
            [
             0.6,
             "#000027"
            ],
            [
             0.7,
             "#000028"
            ],
            [
             0.8,
             "#000029"
            ],
            [
             0.9,
             "#000030"
            ],
            [
             1,
             "#000031"
            ]
           ],
           "sequential": [
            [
             0,
             "#000011"
            ],
            [
             0.1111111111111111,
             "#000012"
            ],
            [
             0.2222222222222222,
             "#000013"
            ],
            [
             0.3333333333333333,
             "#000014"
            ],
            [
             0.4444444444444444,
             "#000015"
            ],
            [
             0.5555555555555556,
             "#000016"
            ],
            [
             0.6666666666666666,
             "#000017"
            ],
            [
             0.7777777777777778,
             "#000018"
            ],
            [
             0.8888888888888888,
             "#000019"
            ],
            [
             1,
             "#000020"
            ]
           ],
           "sequentialminus": [
            [
             0,
             "#000011"
            ],
            [
             0.1111111111111111,
             "#000012"
            ],
            [
             0.2222222222222222,
             "#000013"
            ],
            [
             0.3333333333333333,
             "#000014"
            ],
            [
             0.4444444444444444,
             "#000015"
            ],
            [
             0.5555555555555556,
             "#000016"
            ],
            [
             0.6666666666666666,
             "#000017"
            ],
            [
             0.7777777777777778,
             "#000018"
            ],
            [
             0.8888888888888888,
             "#000019"
            ],
            [
             1,
             "#000020"
            ]
           ]
          },
          "colorway": [
           "#000001",
           "#000002",
           "#000003",
           "#000004",
           "#000005",
           "#000006",
           "#000007",
           "#000008",
           "#000009",
           "#000010"
          ]
         }
        },
        "title": {
         "text": "Budget limits"
        },
        "xaxis": {
         "fixedrange": true,
         "title": {
          "text": ""
         }
        },
        "yaxis": {
         "fixedrange": true,
         "title": {
          "text": ""
         }
        }
       }
      }
     },
     "metadata": {},
     "output_type": "display_data"
    }
   ],
   "source": [
    "import plotly.express as px\n",
    "# Display the differences in a bar chart\n",
    "\n",
    "\n",
    "# Define a color scale (green to red)\n",
    "color_scale = ['#008000', '#FFFF00', '#FF0000']  # Green, Yellow, Red\n",
    "# Create a color map based on percent values\n",
    "color_map = np.interp(limits_and_expenses_for_plot.limit_reached, [0, 1], [0, 2])\n",
    "bar_colors = [color_scale[int(value)] for value in color_map]\n",
    "\n",
    "\n",
    "\n",
    "fig = go.Figure()\n",
    "# Add a bar trace\n",
    "proportion_bar = go.Bar(\n",
    "    x=limits_and_expenses_for_plot.limit_reached,\n",
    "    y=limits_and_expenses_for_plot.category,\n",
    "    name='\\% Limit reached',\n",
    "    orientation='h',\n",
    "    text=limits_and_expenses_for_plot.avail_budg_text,\n",
    "    textposition='inside',\n",
    "    marker=dict(color=bar_colors),\n",
    "    showlegend=False\n",
    ")\n",
    "\n",
    "limit_bar = go.Bar(\n",
    "    x=limits_and_expenses_for_plot.limit / limits_and_expenses_for_plot.limit,\n",
    "    y=limits_and_expenses_for_plot.category,\n",
    "    orientation='h',\n",
    "    text=limits_and_expenses_for_plot.limit_text,\n",
    "    textposition='outside',\n",
    "    marker=dict(color='rgba(0,0,0,0)', line=dict(color='black', width=2)),\n",
    "    showlegend=False\n",
    ")\n",
    "\n",
    "# Add both traces to the subplot\n",
    "fig.add_trace(proportion_bar)\n",
    "fig.add_trace(limit_bar)\n",
    "\n",
    "# Customize the layout\n",
    "fig.update_layout(\n",
    "    title='Budget limits',\n",
    "    xaxis=dict(title=''),  # Adjust the x-axis title\n",
    "    yaxis=dict(title=''),\n",
    "    barmode='overlay'  # Overlay the bars for the same category\n",
    ")\n",
    "fig.update_xaxes(fixedrange=True)\n",
    "fig.update_yaxes(fixedrange=True)\n",
    "\n",
    "# Show the plot\n",
    "fig.show()\n",
    "\n",
    "\n",
    "\n",
    "\n",
    "\n",
    "\n",
    "\n"
   ]
  },
  {
   "cell_type": "code",
   "execution_count": 41,
   "metadata": {},
   "outputs": [
    {
     "data": {
      "text/plain": [
       "plotly.graph_objs._bar.Bar"
      ]
     },
     "execution_count": 41,
     "metadata": {},
     "output_type": "execute_result"
    }
   ],
   "source": [
    "go.Bar"
   ]
  },
  {
   "cell_type": "code",
   "execution_count": 37,
   "metadata": {},
   "outputs": [],
   "source": [
    "limit_categories = defaultdict(lambda: 0)\n",
    "limit_categories['a'] = 4\n",
    "limit_categories['b'] = 12"
   ]
  },
  {
   "cell_type": "code",
   "execution_count": 28,
   "metadata": {},
   "outputs": [],
   "source": [
    "test = pd.DataFrame(columns=['category', 'limit'])\n",
    "# test['category'] = list(limit_categories.keys()) + ['c']\n",
    "\n",
    "# for cat, lim in limit_categories.items():\n",
    "#     test.limit = test.category.apply(lambda x: lim)"
   ]
  },
  {
   "cell_type": "code",
   "execution_count": 32,
   "metadata": {},
   "outputs": [],
   "source": [
    "test.to_csv('ugo_budget_limits.csv', index=False)"
   ]
  },
  {
   "cell_type": "code",
   "execution_count": 33,
   "metadata": {},
   "outputs": [
    {
     "data": {
      "text/html": [
       "<div>\n",
       "<style scoped>\n",
       "    .dataframe tbody tr th:only-of-type {\n",
       "        vertical-align: middle;\n",
       "    }\n",
       "\n",
       "    .dataframe tbody tr th {\n",
       "        vertical-align: top;\n",
       "    }\n",
       "\n",
       "    .dataframe thead th {\n",
       "        text-align: right;\n",
       "    }\n",
       "</style>\n",
       "<table border=\"1\" class=\"dataframe\">\n",
       "  <thead>\n",
       "    <tr style=\"text-align: right;\">\n",
       "      <th></th>\n",
       "      <th>category</th>\n",
       "      <th>limit</th>\n",
       "    </tr>\n",
       "  </thead>\n",
       "  <tbody>\n",
       "  </tbody>\n",
       "</table>\n",
       "</div>"
      ],
      "text/plain": [
       "Empty DataFrame\n",
       "Columns: [category, limit]\n",
       "Index: []"
      ]
     },
     "execution_count": 33,
     "metadata": {},
     "output_type": "execute_result"
    }
   ],
   "source": [
    "pd.read_csv('ugo_budget_limits.csv')"
   ]
  },
  {
   "cell_type": "code",
   "execution_count": 4,
   "metadata": {},
   "outputs": [
    {
     "data": {
      "text/html": [
       "<div>\n",
       "<style scoped>\n",
       "    .dataframe tbody tr th:only-of-type {\n",
       "        vertical-align: middle;\n",
       "    }\n",
       "\n",
       "    .dataframe tbody tr th {\n",
       "        vertical-align: top;\n",
       "    }\n",
       "\n",
       "    .dataframe thead th {\n",
       "        text-align: right;\n",
       "    }\n",
       "</style>\n",
       "<table border=\"1\" class=\"dataframe\">\n",
       "  <thead>\n",
       "    <tr style=\"text-align: right;\">\n",
       "      <th></th>\n",
       "      <th>id</th>\n",
       "      <th>date</th>\n",
       "      <th>description</th>\n",
       "      <th>category</th>\n",
       "      <th>sub_category</th>\n",
       "      <th>amount</th>\n",
       "    </tr>\n",
       "  </thead>\n",
       "  <tbody>\n",
       "    <tr>\n",
       "      <th>0</th>\n",
       "      <td>1</td>\n",
       "      <td>2023-08-12</td>\n",
       "      <td>Camping séminaires Descartes</td>\n",
       "      <td>Vacances</td>\n",
       "      <td>logement</td>\n",
       "      <td>97.00</td>\n",
       "    </tr>\n",
       "    <tr>\n",
       "      <th>1</th>\n",
       "      <td>2</td>\n",
       "      <td>2023-08-12</td>\n",
       "      <td>Disque dur toshiba</td>\n",
       "      <td>Achats</td>\n",
       "      <td>électronique</td>\n",
       "      <td>69.99</td>\n",
       "    </tr>\n",
       "    <tr>\n",
       "      <th>2</th>\n",
       "      <td>3</td>\n",
       "      <td>2023-08-11</td>\n",
       "      <td>inconnu</td>\n",
       "      <td>Autres</td>\n",
       "      <td>inconnu</td>\n",
       "      <td>1.50</td>\n",
       "    </tr>\n",
       "    <tr>\n",
       "      <th>3</th>\n",
       "      <td>4</td>\n",
       "      <td>2023-08-08</td>\n",
       "      <td>bar descartes</td>\n",
       "      <td>Les pêchés du soir</td>\n",
       "      <td>bar</td>\n",
       "      <td>18.00</td>\n",
       "    </tr>\n",
       "    <tr>\n",
       "      <th>4</th>\n",
       "      <td>5</td>\n",
       "      <td>2023-08-08</td>\n",
       "      <td>tabac</td>\n",
       "      <td>Les pêchés du soir</td>\n",
       "      <td>tabac</td>\n",
       "      <td>20.10</td>\n",
       "    </tr>\n",
       "    <tr>\n",
       "      <th>...</th>\n",
       "      <td>...</td>\n",
       "      <td>...</td>\n",
       "      <td>...</td>\n",
       "      <td>...</td>\n",
       "      <td>...</td>\n",
       "      <td>...</td>\n",
       "    </tr>\n",
       "    <tr>\n",
       "      <th>182</th>\n",
       "      <td>189</td>\n",
       "      <td>2023-09-14</td>\n",
       "      <td>Part investissement Aout</td>\n",
       "      <td>Épargne</td>\n",
       "      <td>investissement</td>\n",
       "      <td>50.00</td>\n",
       "    </tr>\n",
       "    <tr>\n",
       "      <th>183</th>\n",
       "      <td>191</td>\n",
       "      <td>2023-09-14</td>\n",
       "      <td>Verre taff</td>\n",
       "      <td>Les pêchés du soir</td>\n",
       "      <td>bar</td>\n",
       "      <td>34.00</td>\n",
       "    </tr>\n",
       "    <tr>\n",
       "      <th>184</th>\n",
       "      <td>192</td>\n",
       "      <td>2023-09-14</td>\n",
       "      <td>Boissons aéroport</td>\n",
       "      <td>Vacances</td>\n",
       "      <td>alimentation</td>\n",
       "      <td>7.01</td>\n",
       "    </tr>\n",
       "    <tr>\n",
       "      <th>185</th>\n",
       "      <td>193</td>\n",
       "      <td>2023-09-14</td>\n",
       "      <td>Boissons aéroport</td>\n",
       "      <td>Vacances</td>\n",
       "      <td>alimentation</td>\n",
       "      <td>7.01</td>\n",
       "    </tr>\n",
       "    <tr>\n",
       "      <th>186</th>\n",
       "      <td>194</td>\n",
       "      <td>2023-09-14</td>\n",
       "      <td>Frais paiement dollars libanais</td>\n",
       "      <td>Frais</td>\n",
       "      <td>banque</td>\n",
       "      <td>3.80</td>\n",
       "    </tr>\n",
       "  </tbody>\n",
       "</table>\n",
       "<p>187 rows × 6 columns</p>\n",
       "</div>"
      ],
      "text/plain": [
       "      id        date                       description            category  \\\n",
       "0      1  2023-08-12      Camping séminaires Descartes            Vacances   \n",
       "1      2  2023-08-12                Disque dur toshiba              Achats   \n",
       "2      3  2023-08-11                           inconnu              Autres   \n",
       "3      4  2023-08-08                     bar descartes  Les pêchés du soir   \n",
       "4      5  2023-08-08                            tabac   Les pêchés du soir   \n",
       "..   ...         ...                               ...                 ...   \n",
       "182  189  2023-09-14          Part investissement Aout             Épargne   \n",
       "183  191  2023-09-14                        Verre taff  Les pêchés du soir   \n",
       "184  192  2023-09-14                Boissons aéroport             Vacances   \n",
       "185  193  2023-09-14                Boissons aéroport             Vacances   \n",
       "186  194  2023-09-14  Frais paiement dollars libanais                Frais   \n",
       "\n",
       "       sub_category  amount  \n",
       "0          logement   97.00  \n",
       "1      électronique   69.99  \n",
       "2           inconnu    1.50  \n",
       "3               bar   18.00  \n",
       "4             tabac   20.10  \n",
       "..              ...     ...  \n",
       "182  investissement   50.00  \n",
       "183             bar   34.00  \n",
       "184    alimentation    7.01  \n",
       "185    alimentation    7.01  \n",
       "186          banque    3.80  \n",
       "\n",
       "[187 rows x 6 columns]"
      ]
     },
     "execution_count": 4,
     "metadata": {},
     "output_type": "execute_result"
    }
   ],
   "source": [
    "read_csv_from_gcs('ugo_expenses.csv', bucket_name=BUCKET_NAME)"
   ]
  },
  {
   "cell_type": "code",
   "execution_count": 5,
   "metadata": {},
   "outputs": [],
   "source": [
    "df = pd.DataFrame(columns=['id', 'date', 'description', 'category', 'sub_category', 'amount'])"
   ]
  },
  {
   "cell_type": "code",
   "execution_count": 8,
   "metadata": {},
   "outputs": [
    {
     "data": {
      "text/plain": [
       "Index(['id', 'date', 'description', 'category', 'amount'], dtype='object')"
      ]
     },
     "execution_count": 8,
     "metadata": {},
     "output_type": "execute_result"
    }
   ],
   "source": [
    "read_csv_from_gcs('ugo_recettes.csv', bucket_name=BUCKET_NAME).columns"
   ]
  },
  {
   "cell_type": "code",
   "execution_count": 1,
   "metadata": {},
   "outputs": [
    {
     "data": {
      "text/plain": [
       "['$2b$12$G/Txil0/v2z9s.xBvVjxouLQVDgdkhF7iwRjDjHel8ddpEniZ.6DO']"
      ]
     },
     "execution_count": 1,
     "metadata": {},
     "output_type": "execute_result"
    }
   ],
   "source": [
    "import streamlit_authenticator as stauth\n",
    "stauth.Hasher(['ugolegrostarpeedu17']).generate()"
   ]
  },
  {
   "cell_type": "code",
   "execution_count": 1,
   "metadata": {},
   "outputs": [],
   "source": [
    "import streamlit as st\n",
    "from pathlib import Path\n",
    "from google.cloud import storage\n",
    "import json \n",
    "\n",
    "# Your service account key information as a dictionary\n",
    "service_account_info = {\n",
    "    \"type\": st.secrets.connections.gcs.type,\n",
    "    \"project_id\": st.secrets.connections.gcs.project_id,\n",
    "    \"private_key_id\": st.secrets.connections.gcs.private_key_id,\n",
    "    \"private_key\": st.secrets.connections.gcs.private_key,\n",
    "    \"client_email\": st.secrets.connections.gcs.client_email,\n",
    "    \"client_id\": st.secrets.connections.gcs.client_id,\n",
    "    \"auth_uri\": st.secrets.connections.gcs.auth_uri,\n",
    "    \"token_uri\": st.secrets.connections.gcs.token_uri,\n",
    "    \"auth_provider_x509_cert_url\": st.secrets.connections.gcs.auth_provider_x509_cert_url,\n",
    "    \"client_x509_cert_url\": st.secrets.connections.gcs.client_x509_cert_url\n",
    "}\n",
    "# Initialize a client with your service account info\n",
    "CLIENT = storage.Client.from_service_account_info(service_account_info)\n",
    "DATA_PATH = Path('data')\n",
    "BUCKET_NAME = \"data-account-app\"\n",
    "USER_DEPENSES = 'ugo'\n",
    "with open(DATA_PATH / 'categories.json', 'r') as json_file:\n",
    "    CATEGORIES = json.load(json_file)"
   ]
  },
  {
   "cell_type": "code",
   "execution_count": 35,
   "metadata": {},
   "outputs": [],
   "source": [
    "import streamlit as st\n",
    "from st_files_connection import FilesConnection\n",
    "from google.cloud import storage\n",
    "from pathlib import Path\n",
    "import sqlite3\n",
    "from io import BytesIO\n",
    "import io\n",
    "import csv\n",
    "\n",
    "# Your service account key information as a dictionary\n",
    "service_account_info = {\n",
    "    \"type\": st.secrets.connections.gcs.type,\n",
    "    \"project_id\": st.secrets.connections.gcs.project_id,\n",
    "    \"private_key_id\": st.secrets.connections.gcs.private_key_id,\n",
    "    \"private_key\": st.secrets.connections.gcs.private_key,\n",
    "    \"client_email\": st.secrets.connections.gcs.client_email,\n",
    "    \"client_id\": st.secrets.connections.gcs.client_id,\n",
    "    \"auth_uri\": st.secrets.connections.gcs.auth_uri,\n",
    "    \"token_uri\": st.secrets.connections.gcs.token_uri,\n",
    "    \"auth_provider_x509_cert_url\": st.secrets.connections.gcs.auth_provider_x509_cert_url,\n",
    "    \"client_x509_cert_url\": st.secrets.connections.gcs.client_x509_cert_url\n",
    "}\n",
    "\n",
    "# Initialize a client with your service account info\n",
    "CLIENT = storage.Client.from_service_account_info(service_account_info)\n",
    "DATA_PATH = Path('data')\n",
    "DB_NAME = 'ugo_expenses.csv'\n",
    "# Replace these with your values\n",
    "bucket_name = \"data-account-app\"\n",
    "\n",
    "# Get the bucket\n",
    "bucket = CLIENT.get_bucket(bucket_name)\n",
    "\n",
    "# Get the blob (object) corresponding to the SQLite database file\n",
    "blob = bucket.blob(DB_NAME)\n",
    "\n",
    "# Read the CSV file directly into a DataFrame\n",
    "content = blob.download_as_string()\n",
    "expenses_df = pd.read_csv(BytesIO(content))"
   ]
  },
  {
   "cell_type": "code",
   "execution_count": 46,
   "metadata": {},
   "outputs": [],
   "source": [
    "from utils.global_utils import *\n"
   ]
  },
  {
   "cell_type": "code",
   "execution_count": 40,
   "metadata": {},
   "outputs": [],
   "source": [
    "new_expense = {\n",
    "            'date': '1999',\n",
    "            'Description': 'description',\n",
    "            'Category': 'selected_catego',\n",
    "            'Sub Category': 'sub_category',\n",
    "            'Amount': 65\n",
    "        }\n",
    "        "
   ]
  },
  {
   "cell_type": "code",
   "execution_count": 43,
   "metadata": {},
   "outputs": [
    {
     "data": {
      "text/plain": [
       "165.0"
      ]
     },
     "execution_count": 43,
     "metadata": {},
     "output_type": "execute_result"
    }
   ],
   "source": [
    "expenses_df.id.max()"
   ]
  },
  {
   "cell_type": "code",
   "execution_count": 42,
   "metadata": {},
   "outputs": [
    {
     "data": {
      "text/html": [
       "<div>\n",
       "<style scoped>\n",
       "    .dataframe tbody tr th:only-of-type {\n",
       "        vertical-align: middle;\n",
       "    }\n",
       "\n",
       "    .dataframe tbody tr th {\n",
       "        vertical-align: top;\n",
       "    }\n",
       "\n",
       "    .dataframe thead th {\n",
       "        text-align: right;\n",
       "    }\n",
       "</style>\n",
       "<table border=\"1\" class=\"dataframe\">\n",
       "  <thead>\n",
       "    <tr style=\"text-align: right;\">\n",
       "      <th></th>\n",
       "      <th>id</th>\n",
       "      <th>date</th>\n",
       "      <th>description</th>\n",
       "      <th>category</th>\n",
       "      <th>sub_category</th>\n",
       "      <th>amount</th>\n",
       "    </tr>\n",
       "  </thead>\n",
       "  <tbody>\n",
       "    <tr>\n",
       "      <th>0</th>\n",
       "      <td>142.0</td>\n",
       "      <td>2023-06-05</td>\n",
       "      <td>habits guerissol</td>\n",
       "      <td>Achats</td>\n",
       "      <td>vêtement</td>\n",
       "      <td>17.0</td>\n",
       "    </tr>\n",
       "    <tr>\n",
       "      <th>1</th>\n",
       "      <td>143.0</td>\n",
       "      <td>2023-06-05</td>\n",
       "      <td>baguettes</td>\n",
       "      <td>Alimentation</td>\n",
       "      <td>Courses</td>\n",
       "      <td>1.1</td>\n",
       "    </tr>\n",
       "    <tr>\n",
       "      <th>2</th>\n",
       "      <td>141.0</td>\n",
       "      <td>2023-06-05</td>\n",
       "      <td>courses</td>\n",
       "      <td>Alimentation</td>\n",
       "      <td>Courses</td>\n",
       "      <td>22.0</td>\n",
       "    </tr>\n",
       "    <tr>\n",
       "      <th>3</th>\n",
       "      <td>146.0</td>\n",
       "      <td>2023-06-05</td>\n",
       "      <td>bières tancrède</td>\n",
       "      <td>Les pêchés du soir</td>\n",
       "      <td>bar</td>\n",
       "      <td>13.0</td>\n",
       "    </tr>\n",
       "    <tr>\n",
       "      <th>4</th>\n",
       "      <td>140.0</td>\n",
       "      <td>2023-06-05</td>\n",
       "      <td>loyer Juin</td>\n",
       "      <td>Logement</td>\n",
       "      <td>Loyer</td>\n",
       "      <td>690.0</td>\n",
       "    </tr>\n",
       "    <tr>\n",
       "      <th>...</th>\n",
       "      <td>...</td>\n",
       "      <td>...</td>\n",
       "      <td>...</td>\n",
       "      <td>...</td>\n",
       "      <td>...</td>\n",
       "      <td>...</td>\n",
       "    </tr>\n",
       "    <tr>\n",
       "      <th>156</th>\n",
       "      <td>162.0</td>\n",
       "      <td>2023-08-22</td>\n",
       "      <td>courses nems etc</td>\n",
       "      <td>Alimentation</td>\n",
       "      <td>Courses</td>\n",
       "      <td>19.0</td>\n",
       "    </tr>\n",
       "    <tr>\n",
       "      <th>157</th>\n",
       "      <td>163.0</td>\n",
       "      <td>2023-08-22</td>\n",
       "      <td>investissements aout</td>\n",
       "      <td>Épargne</td>\n",
       "      <td>investissement</td>\n",
       "      <td>50.0</td>\n",
       "    </tr>\n",
       "    <tr>\n",
       "      <th>158</th>\n",
       "      <td>165.0</td>\n",
       "      <td>2023-08-22</td>\n",
       "      <td>marlusse et lapin tournée</td>\n",
       "      <td>Les pêchés du soir</td>\n",
       "      <td>bar</td>\n",
       "      <td>28.0</td>\n",
       "    </tr>\n",
       "    <tr>\n",
       "      <th>159</th>\n",
       "      <td>NaN</td>\n",
       "      <td>NaN</td>\n",
       "      <td>NaN</td>\n",
       "      <td>NaN</td>\n",
       "      <td>NaN</td>\n",
       "      <td>NaN</td>\n",
       "    </tr>\n",
       "    <tr>\n",
       "      <th>160</th>\n",
       "      <td>NaN</td>\n",
       "      <td>1999</td>\n",
       "      <td>NaN</td>\n",
       "      <td>NaN</td>\n",
       "      <td>NaN</td>\n",
       "      <td>NaN</td>\n",
       "    </tr>\n",
       "  </tbody>\n",
       "</table>\n",
       "<p>161 rows × 6 columns</p>\n",
       "</div>"
      ],
      "text/plain": [
       "        id        date                description            category  \\\n",
       "0    142.0  2023-06-05           habits guerissol              Achats   \n",
       "1    143.0  2023-06-05                  baguettes        Alimentation   \n",
       "2    141.0  2023-06-05                    courses        Alimentation   \n",
       "3    146.0  2023-06-05            bières tancrède  Les pêchés du soir   \n",
       "4    140.0  2023-06-05                 loyer Juin            Logement   \n",
       "..     ...         ...                        ...                 ...   \n",
       "156  162.0  2023-08-22           courses nems etc        Alimentation   \n",
       "157  163.0  2023-08-22       investissements aout             Épargne   \n",
       "158  165.0  2023-08-22  marlusse et lapin tournée  Les pêchés du soir   \n",
       "159    NaN         NaN                        NaN                 NaN   \n",
       "160    NaN        1999                        NaN                 NaN   \n",
       "\n",
       "       sub_category  amount  \n",
       "0          vêtement    17.0  \n",
       "1           Courses     1.1  \n",
       "2           Courses    22.0  \n",
       "3               bar    13.0  \n",
       "4             Loyer   690.0  \n",
       "..              ...     ...  \n",
       "156         Courses    19.0  \n",
       "157  investissement    50.0  \n",
       "158             bar    28.0  \n",
       "159             NaN     NaN  \n",
       "160             NaN     NaN  \n",
       "\n",
       "[161 rows x 6 columns]"
      ]
     },
     "execution_count": 42,
     "metadata": {},
     "output_type": "execute_result"
    }
   ],
   "source": [
    "expenses_df"
   ]
  },
  {
   "cell_type": "code",
   "execution_count": 41,
   "metadata": {},
   "outputs": [],
   "source": [
    "expenses_df.loc[len(expenses_df)] = new_expense"
   ]
  },
  {
   "cell_type": "code",
   "execution_count": 45,
   "metadata": {},
   "outputs": [
    {
     "data": {
      "text/html": [
       "<div>\n",
       "<style scoped>\n",
       "    .dataframe tbody tr th:only-of-type {\n",
       "        vertical-align: middle;\n",
       "    }\n",
       "\n",
       "    .dataframe tbody tr th {\n",
       "        vertical-align: top;\n",
       "    }\n",
       "\n",
       "    .dataframe thead th {\n",
       "        text-align: right;\n",
       "    }\n",
       "</style>\n",
       "<table border=\"1\" class=\"dataframe\">\n",
       "  <thead>\n",
       "    <tr style=\"text-align: right;\">\n",
       "      <th></th>\n",
       "      <th>id</th>\n",
       "      <th>date</th>\n",
       "      <th>description</th>\n",
       "      <th>category</th>\n",
       "      <th>sub_category</th>\n",
       "      <th>amount</th>\n",
       "    </tr>\n",
       "  </thead>\n",
       "  <tbody>\n",
       "    <tr>\n",
       "      <th>0</th>\n",
       "      <td>142.0</td>\n",
       "      <td>2023-06-05</td>\n",
       "      <td>habits guerissol</td>\n",
       "      <td>Achats</td>\n",
       "      <td>vêtement</td>\n",
       "      <td>17.0</td>\n",
       "    </tr>\n",
       "    <tr>\n",
       "      <th>1</th>\n",
       "      <td>143.0</td>\n",
       "      <td>2023-06-05</td>\n",
       "      <td>baguettes</td>\n",
       "      <td>Alimentation</td>\n",
       "      <td>Courses</td>\n",
       "      <td>1.1</td>\n",
       "    </tr>\n",
       "    <tr>\n",
       "      <th>2</th>\n",
       "      <td>141.0</td>\n",
       "      <td>2023-06-05</td>\n",
       "      <td>courses</td>\n",
       "      <td>Alimentation</td>\n",
       "      <td>Courses</td>\n",
       "      <td>22.0</td>\n",
       "    </tr>\n",
       "    <tr>\n",
       "      <th>3</th>\n",
       "      <td>146.0</td>\n",
       "      <td>2023-06-05</td>\n",
       "      <td>bières tancrède</td>\n",
       "      <td>Les pêchés du soir</td>\n",
       "      <td>bar</td>\n",
       "      <td>13.0</td>\n",
       "    </tr>\n",
       "    <tr>\n",
       "      <th>4</th>\n",
       "      <td>140.0</td>\n",
       "      <td>2023-06-05</td>\n",
       "      <td>loyer Juin</td>\n",
       "      <td>Logement</td>\n",
       "      <td>Loyer</td>\n",
       "      <td>690.0</td>\n",
       "    </tr>\n",
       "    <tr>\n",
       "      <th>...</th>\n",
       "      <td>...</td>\n",
       "      <td>...</td>\n",
       "      <td>...</td>\n",
       "      <td>...</td>\n",
       "      <td>...</td>\n",
       "      <td>...</td>\n",
       "    </tr>\n",
       "    <tr>\n",
       "      <th>156</th>\n",
       "      <td>162.0</td>\n",
       "      <td>2023-08-22</td>\n",
       "      <td>courses nems etc</td>\n",
       "      <td>Alimentation</td>\n",
       "      <td>Courses</td>\n",
       "      <td>19.0</td>\n",
       "    </tr>\n",
       "    <tr>\n",
       "      <th>157</th>\n",
       "      <td>163.0</td>\n",
       "      <td>2023-08-22</td>\n",
       "      <td>investissements aout</td>\n",
       "      <td>Épargne</td>\n",
       "      <td>investissement</td>\n",
       "      <td>50.0</td>\n",
       "    </tr>\n",
       "    <tr>\n",
       "      <th>158</th>\n",
       "      <td>165.0</td>\n",
       "      <td>2023-08-22</td>\n",
       "      <td>marlusse et lapin tournée</td>\n",
       "      <td>Les pêchés du soir</td>\n",
       "      <td>bar</td>\n",
       "      <td>28.0</td>\n",
       "    </tr>\n",
       "    <tr>\n",
       "      <th>159</th>\n",
       "      <td>NaN</td>\n",
       "      <td>NaN</td>\n",
       "      <td>NaN</td>\n",
       "      <td>NaN</td>\n",
       "      <td>NaN</td>\n",
       "      <td>NaN</td>\n",
       "    </tr>\n",
       "    <tr>\n",
       "      <th>160</th>\n",
       "      <td>NaN</td>\n",
       "      <td>1999</td>\n",
       "      <td>NaN</td>\n",
       "      <td>NaN</td>\n",
       "      <td>NaN</td>\n",
       "      <td>NaN</td>\n",
       "    </tr>\n",
       "  </tbody>\n",
       "</table>\n",
       "<p>159 rows × 6 columns</p>\n",
       "</div>"
      ],
      "text/plain": [
       "        id        date                description            category  \\\n",
       "0    142.0  2023-06-05           habits guerissol              Achats   \n",
       "1    143.0  2023-06-05                  baguettes        Alimentation   \n",
       "2    141.0  2023-06-05                    courses        Alimentation   \n",
       "3    146.0  2023-06-05            bières tancrède  Les pêchés du soir   \n",
       "4    140.0  2023-06-05                 loyer Juin            Logement   \n",
       "..     ...         ...                        ...                 ...   \n",
       "156  162.0  2023-08-22           courses nems etc        Alimentation   \n",
       "157  163.0  2023-08-22       investissements aout             Épargne   \n",
       "158  165.0  2023-08-22  marlusse et lapin tournée  Les pêchés du soir   \n",
       "159    NaN         NaN                        NaN                 NaN   \n",
       "160    NaN        1999                        NaN                 NaN   \n",
       "\n",
       "       sub_category  amount  \n",
       "0          vêtement    17.0  \n",
       "1           Courses     1.1  \n",
       "2           Courses    22.0  \n",
       "3               bar    13.0  \n",
       "4             Loyer   690.0  \n",
       "..              ...     ...  \n",
       "156         Courses    19.0  \n",
       "157  investissement    50.0  \n",
       "158             bar    28.0  \n",
       "159             NaN     NaN  \n",
       "160             NaN     NaN  \n",
       "\n",
       "[159 rows x 6 columns]"
      ]
     },
     "execution_count": 45,
     "metadata": {},
     "output_type": "execute_result"
    }
   ],
   "source": [
    "expenses_df[~expenses_df.id.isin([1,4])]"
   ]
  },
  {
   "cell_type": "code",
   "execution_count": null,
   "metadata": {},
   "outputs": [],
   "source": [
    "pd.read_csv(f'gs://{bucket_name}/{DB_NAME}', encoding='utf-8')"
   ]
  },
  {
   "cell_type": "code",
   "execution_count": 9,
   "metadata": {},
   "outputs": [
    {
     "data": {
      "text/plain": [
       "[('expenses',), ('recettes',)]"
      ]
     },
     "execution_count": 9,
     "metadata": {},
     "output_type": "execute_result"
    }
   ],
   "source": [
    "# Execute a query to get all table names\n",
    "CURSOR.execute(\"SELECT name FROM sqlite_master WHERE type='table';\")\n",
    "\n",
    "# Fetch all the table names using fetchall()\n",
    "tables = CURSOR.fetchall()\n",
    "tables"
   ]
  },
  {
   "cell_type": "code",
   "execution_count": 15,
   "metadata": {},
   "outputs": [],
   "source": [
    "CURSOR.execute(f\"SELECT * FROM expenses\")\n",
    "table_data = CURSOR.fetchall()\n",
    "\n",
    "df1 = pd.DataFrame(table_data)"
   ]
  },
  {
   "cell_type": "code",
   "execution_count": null,
   "metadata": {},
   "outputs": [],
   "source": [
    "new_expense = {\n",
    "            'id': expenses_df.id.max() + 1,\n",
    "            'date': spending_date,\n",
    "            'description': description,\n",
    "            'category': selected_catego,\n",
    "            'sub_category': sub_category,\n",
    "            'amount': amount\n",
    "        }"
   ]
  },
  {
   "cell_type": "code",
   "execution_count": 11,
   "metadata": {},
   "outputs": [],
   "source": [
    "df1.columns = ['id', 'date', 'description', 'category', 'sub_category', 'amount']"
   ]
  },
  {
   "cell_type": "code",
   "execution_count": 17,
   "metadata": {},
   "outputs": [
    {
     "name": "stdout",
     "output_type": "stream",
     "text": [
      "Collecting streamlit-authenticator\n",
      "  Downloading streamlit-authenticator-0.2.3.tar.gz (12 kB)\n",
      "  Preparing metadata (setup.py) ... \u001b[?25ldone\n",
      "\u001b[?25hCollecting PyJWT>=2.3.0 (from streamlit-authenticator)\n",
      "  Obtaining dependency information for PyJWT>=2.3.0 from https://files.pythonhosted.org/packages/2b/4f/e04a8067c7c96c364cef7ef73906504e2f40d690811c021e1a1901473a19/PyJWT-2.8.0-py3-none-any.whl.metadata\n",
      "  Downloading PyJWT-2.8.0-py3-none-any.whl.metadata (4.2 kB)\n",
      "Collecting bcrypt>=3.1.7 (from streamlit-authenticator)\n",
      "  Downloading bcrypt-4.0.1-cp36-abi3-macosx_10_10_universal2.whl (473 kB)\n",
      "\u001b[2K     \u001b[90m━━━━━━━━━━━━━━━━━━━━━━━━━━━━━━━━━━━━━━━\u001b[0m \u001b[32m473.4/473.4 kB\u001b[0m \u001b[31m6.5 MB/s\u001b[0m eta \u001b[36m0:00:00\u001b[0ma \u001b[36m0:00:01\u001b[0m\n",
      "\u001b[?25hCollecting PyYAML>=5.3.1 (from streamlit-authenticator)\n",
      "  Obtaining dependency information for PyYAML>=5.3.1 from https://files.pythonhosted.org/packages/96/06/4beb652c0fe16834032e54f0956443d4cc797fe645527acee59e7deaa0a2/PyYAML-6.0.1-cp310-cp310-macosx_10_9_x86_64.whl.metadata\n",
      "  Downloading PyYAML-6.0.1-cp310-cp310-macosx_10_9_x86_64.whl.metadata (2.1 kB)\n",
      "Requirement already satisfied: streamlit>=1.18.0 in /Users/muhieddineugo/miniconda3/envs/my_account/lib/python3.10/site-packages (from streamlit-authenticator) (1.25.0)\n",
      "Collecting extra-streamlit-components>=0.1.60 (from streamlit-authenticator)\n",
      "  Obtaining dependency information for extra-streamlit-components>=0.1.60 from https://files.pythonhosted.org/packages/cc/58/96aff0e5cb8b59c06232ea7e249ed902d04ec89f52636f5be06ceb0855fe/extra_streamlit_components-0.1.60-py3-none-any.whl.metadata\n",
      "  Downloading extra_streamlit_components-0.1.60-py3-none-any.whl.metadata (5.4 kB)\n",
      "Requirement already satisfied: altair<6,>=4.0 in /Users/muhieddineugo/miniconda3/envs/my_account/lib/python3.10/site-packages (from streamlit>=1.18.0->streamlit-authenticator) (5.0.1)\n",
      "Requirement already satisfied: blinker<2,>=1.0.0 in /Users/muhieddineugo/miniconda3/envs/my_account/lib/python3.10/site-packages (from streamlit>=1.18.0->streamlit-authenticator) (1.6.2)\n",
      "Requirement already satisfied: cachetools<6,>=4.0 in /Users/muhieddineugo/miniconda3/envs/my_account/lib/python3.10/site-packages (from streamlit>=1.18.0->streamlit-authenticator) (5.3.1)\n",
      "Requirement already satisfied: click<9,>=7.0 in /Users/muhieddineugo/miniconda3/envs/my_account/lib/python3.10/site-packages (from streamlit>=1.18.0->streamlit-authenticator) (8.1.6)\n",
      "Requirement already satisfied: importlib-metadata<7,>=1.4 in /Users/muhieddineugo/miniconda3/envs/my_account/lib/python3.10/site-packages (from streamlit>=1.18.0->streamlit-authenticator) (6.8.0)\n",
      "Requirement already satisfied: numpy<2,>=1.19.3 in /Users/muhieddineugo/miniconda3/envs/my_account/lib/python3.10/site-packages (from streamlit>=1.18.0->streamlit-authenticator) (1.25.2)\n",
      "Requirement already satisfied: packaging<24,>=16.8 in /Users/muhieddineugo/miniconda3/envs/my_account/lib/python3.10/site-packages (from streamlit>=1.18.0->streamlit-authenticator) (23.1)\n",
      "Requirement already satisfied: pandas<3,>=1.3.0 in /Users/muhieddineugo/miniconda3/envs/my_account/lib/python3.10/site-packages (from streamlit>=1.18.0->streamlit-authenticator) (2.0.3)\n",
      "Requirement already satisfied: pillow<10,>=7.1.0 in /Users/muhieddineugo/miniconda3/envs/my_account/lib/python3.10/site-packages (from streamlit>=1.18.0->streamlit-authenticator) (9.5.0)\n",
      "Requirement already satisfied: protobuf<5,>=3.20 in /Users/muhieddineugo/miniconda3/envs/my_account/lib/python3.10/site-packages (from streamlit>=1.18.0->streamlit-authenticator) (4.24.0)\n",
      "Requirement already satisfied: pyarrow>=6.0 in /Users/muhieddineugo/miniconda3/envs/my_account/lib/python3.10/site-packages (from streamlit>=1.18.0->streamlit-authenticator) (12.0.1)\n",
      "Requirement already satisfied: pympler<2,>=0.9 in /Users/muhieddineugo/miniconda3/envs/my_account/lib/python3.10/site-packages (from streamlit>=1.18.0->streamlit-authenticator) (1.0.1)\n",
      "Requirement already satisfied: python-dateutil<3,>=2.7.3 in /Users/muhieddineugo/miniconda3/envs/my_account/lib/python3.10/site-packages (from streamlit>=1.18.0->streamlit-authenticator) (2.8.2)\n",
      "Requirement already satisfied: requests<3,>=2.18 in /Users/muhieddineugo/miniconda3/envs/my_account/lib/python3.10/site-packages (from streamlit>=1.18.0->streamlit-authenticator) (2.31.0)\n",
      "Requirement already satisfied: rich<14,>=10.14.0 in /Users/muhieddineugo/miniconda3/envs/my_account/lib/python3.10/site-packages (from streamlit>=1.18.0->streamlit-authenticator) (13.5.2)\n",
      "Requirement already satisfied: tenacity<9,>=8.1.0 in /Users/muhieddineugo/miniconda3/envs/my_account/lib/python3.10/site-packages (from streamlit>=1.18.0->streamlit-authenticator) (8.2.3)\n",
      "Requirement already satisfied: toml<2,>=0.10.1 in /Users/muhieddineugo/miniconda3/envs/my_account/lib/python3.10/site-packages (from streamlit>=1.18.0->streamlit-authenticator) (0.10.2)\n",
      "Requirement already satisfied: typing-extensions<5,>=4.1.0 in /Users/muhieddineugo/miniconda3/envs/my_account/lib/python3.10/site-packages (from streamlit>=1.18.0->streamlit-authenticator) (4.7.1)\n",
      "Requirement already satisfied: tzlocal<5,>=1.1 in /Users/muhieddineugo/miniconda3/envs/my_account/lib/python3.10/site-packages (from streamlit>=1.18.0->streamlit-authenticator) (4.3.1)\n",
      "Requirement already satisfied: validators<1,>=0.2 in /Users/muhieddineugo/miniconda3/envs/my_account/lib/python3.10/site-packages (from streamlit>=1.18.0->streamlit-authenticator) (0.21.2)\n",
      "Requirement already satisfied: gitpython!=3.1.19,<4,>=3.0.7 in /Users/muhieddineugo/miniconda3/envs/my_account/lib/python3.10/site-packages (from streamlit>=1.18.0->streamlit-authenticator) (3.1.32)\n",
      "Requirement already satisfied: pydeck<1,>=0.8 in /Users/muhieddineugo/miniconda3/envs/my_account/lib/python3.10/site-packages (from streamlit>=1.18.0->streamlit-authenticator) (0.8.0)\n",
      "Requirement already satisfied: tornado<7,>=6.0.3 in /Users/muhieddineugo/miniconda3/envs/my_account/lib/python3.10/site-packages (from streamlit>=1.18.0->streamlit-authenticator) (6.3.3)\n",
      "Requirement already satisfied: jinja2 in /Users/muhieddineugo/miniconda3/envs/my_account/lib/python3.10/site-packages (from altair<6,>=4.0->streamlit>=1.18.0->streamlit-authenticator) (3.1.2)\n",
      "Requirement already satisfied: jsonschema>=3.0 in /Users/muhieddineugo/miniconda3/envs/my_account/lib/python3.10/site-packages (from altair<6,>=4.0->streamlit>=1.18.0->streamlit-authenticator) (4.19.0)\n",
      "Requirement already satisfied: toolz in /Users/muhieddineugo/miniconda3/envs/my_account/lib/python3.10/site-packages (from altair<6,>=4.0->streamlit>=1.18.0->streamlit-authenticator) (0.12.0)\n",
      "Requirement already satisfied: gitdb<5,>=4.0.1 in /Users/muhieddineugo/miniconda3/envs/my_account/lib/python3.10/site-packages (from gitpython!=3.1.19,<4,>=3.0.7->streamlit>=1.18.0->streamlit-authenticator) (4.0.10)\n",
      "Requirement already satisfied: zipp>=0.5 in /Users/muhieddineugo/miniconda3/envs/my_account/lib/python3.10/site-packages (from importlib-metadata<7,>=1.4->streamlit>=1.18.0->streamlit-authenticator) (3.16.2)\n",
      "Requirement already satisfied: pytz>=2020.1 in /Users/muhieddineugo/miniconda3/envs/my_account/lib/python3.10/site-packages (from pandas<3,>=1.3.0->streamlit>=1.18.0->streamlit-authenticator) (2023.3)\n",
      "Requirement already satisfied: tzdata>=2022.1 in /Users/muhieddineugo/miniconda3/envs/my_account/lib/python3.10/site-packages (from pandas<3,>=1.3.0->streamlit>=1.18.0->streamlit-authenticator) (2023.3)\n",
      "Requirement already satisfied: six>=1.5 in /Users/muhieddineugo/miniconda3/envs/my_account/lib/python3.10/site-packages (from python-dateutil<3,>=2.7.3->streamlit>=1.18.0->streamlit-authenticator) (1.16.0)\n",
      "Requirement already satisfied: charset-normalizer<4,>=2 in /Users/muhieddineugo/miniconda3/envs/my_account/lib/python3.10/site-packages (from requests<3,>=2.18->streamlit>=1.18.0->streamlit-authenticator) (3.2.0)\n",
      "Requirement already satisfied: idna<4,>=2.5 in /Users/muhieddineugo/miniconda3/envs/my_account/lib/python3.10/site-packages (from requests<3,>=2.18->streamlit>=1.18.0->streamlit-authenticator) (3.4)\n",
      "Requirement already satisfied: urllib3<3,>=1.21.1 in /Users/muhieddineugo/miniconda3/envs/my_account/lib/python3.10/site-packages (from requests<3,>=2.18->streamlit>=1.18.0->streamlit-authenticator) (1.26.16)\n",
      "Requirement already satisfied: certifi>=2017.4.17 in /Users/muhieddineugo/miniconda3/envs/my_account/lib/python3.10/site-packages (from requests<3,>=2.18->streamlit>=1.18.0->streamlit-authenticator) (2023.7.22)\n",
      "Requirement already satisfied: markdown-it-py>=2.2.0 in /Users/muhieddineugo/miniconda3/envs/my_account/lib/python3.10/site-packages (from rich<14,>=10.14.0->streamlit>=1.18.0->streamlit-authenticator) (3.0.0)\n",
      "Requirement already satisfied: pygments<3.0.0,>=2.13.0 in /Users/muhieddineugo/miniconda3/envs/my_account/lib/python3.10/site-packages (from rich<14,>=10.14.0->streamlit>=1.18.0->streamlit-authenticator) (2.16.1)\n",
      "Requirement already satisfied: pytz-deprecation-shim in /Users/muhieddineugo/miniconda3/envs/my_account/lib/python3.10/site-packages (from tzlocal<5,>=1.1->streamlit>=1.18.0->streamlit-authenticator) (0.1.0.post0)\n",
      "Requirement already satisfied: smmap<6,>=3.0.1 in /Users/muhieddineugo/miniconda3/envs/my_account/lib/python3.10/site-packages (from gitdb<5,>=4.0.1->gitpython!=3.1.19,<4,>=3.0.7->streamlit>=1.18.0->streamlit-authenticator) (5.0.0)\n",
      "Requirement already satisfied: MarkupSafe>=2.0 in /Users/muhieddineugo/miniconda3/envs/my_account/lib/python3.10/site-packages (from jinja2->altair<6,>=4.0->streamlit>=1.18.0->streamlit-authenticator) (2.1.3)\n",
      "Requirement already satisfied: attrs>=22.2.0 in /Users/muhieddineugo/miniconda3/envs/my_account/lib/python3.10/site-packages (from jsonschema>=3.0->altair<6,>=4.0->streamlit>=1.18.0->streamlit-authenticator) (23.1.0)\n",
      "Requirement already satisfied: jsonschema-specifications>=2023.03.6 in /Users/muhieddineugo/miniconda3/envs/my_account/lib/python3.10/site-packages (from jsonschema>=3.0->altair<6,>=4.0->streamlit>=1.18.0->streamlit-authenticator) (2023.7.1)\n",
      "Requirement already satisfied: referencing>=0.28.4 in /Users/muhieddineugo/miniconda3/envs/my_account/lib/python3.10/site-packages (from jsonschema>=3.0->altair<6,>=4.0->streamlit>=1.18.0->streamlit-authenticator) (0.30.2)\n",
      "Requirement already satisfied: rpds-py>=0.7.1 in /Users/muhieddineugo/miniconda3/envs/my_account/lib/python3.10/site-packages (from jsonschema>=3.0->altair<6,>=4.0->streamlit>=1.18.0->streamlit-authenticator) (0.9.2)\n",
      "Requirement already satisfied: mdurl~=0.1 in /Users/muhieddineugo/miniconda3/envs/my_account/lib/python3.10/site-packages (from markdown-it-py>=2.2.0->rich<14,>=10.14.0->streamlit>=1.18.0->streamlit-authenticator) (0.1.2)\n",
      "Downloading extra_streamlit_components-0.1.60-py3-none-any.whl (4.9 MB)\n",
      "\u001b[2K   \u001b[90m━━━━━━━━━━━━━━━━━━━━━━━━━━━━━━━━━━━━━━━━\u001b[0m \u001b[32m4.9/4.9 MB\u001b[0m \u001b[31m11.4 MB/s\u001b[0m eta \u001b[36m0:00:00\u001b[0m00:01\u001b[0m00:01\u001b[0m\n",
      "\u001b[?25hDownloading PyJWT-2.8.0-py3-none-any.whl (22 kB)\n",
      "Downloading PyYAML-6.0.1-cp310-cp310-macosx_10_9_x86_64.whl (189 kB)\n",
      "\u001b[2K   \u001b[90m━━━━━━━━━━━━━━━━━━━━━━━━━━━━━━━━━━━━━━━━\u001b[0m \u001b[32m189.4/189.4 kB\u001b[0m \u001b[31m6.1 MB/s\u001b[0m eta \u001b[36m0:00:00\u001b[0m\n",
      "\u001b[?25hBuilding wheels for collected packages: streamlit-authenticator\n",
      "  Building wheel for streamlit-authenticator (setup.py) ... \u001b[?25ldone\n",
      "\u001b[?25h  Created wheel for streamlit-authenticator: filename=streamlit_authenticator-0.2.3-py3-none-any.whl size=10973 sha256=750cc307123cbe7ec98e9684e03fb339785a693789dde7098bc2140039ad29a7\n",
      "  Stored in directory: /Users/muhieddineugo/Library/Caches/pip/wheels/fa/eb/54/009e28abdb72f6bab333aff4549375b8c89185ea1d6e034109\n",
      "Successfully built streamlit-authenticator\n",
      "Installing collected packages: PyYAML, PyJWT, bcrypt, extra-streamlit-components, streamlit-authenticator\n",
      "Successfully installed PyJWT-2.8.0 PyYAML-6.0.1 bcrypt-4.0.1 extra-streamlit-components-0.1.60 streamlit-authenticator-0.2.3\n",
      "Note: you may need to restart the kernel to use updated packages.\n"
     ]
    }
   ],
   "source": [
    "pip install streamlit-authenticator\n"
   ]
  },
  {
   "cell_type": "code",
   "execution_count": 19,
   "metadata": {},
   "outputs": [],
   "source": [
    "import streamlit as st\n",
    "import streamlit_authenticator as stauth"
   ]
  },
  {
   "cell_type": "code",
   "execution_count": 20,
   "metadata": {},
   "outputs": [],
   "source": [
    "hashed_passwords = stauth.Hasher(['Mkfarfila17!', 'def']).generate()\n"
   ]
  },
  {
   "cell_type": "code",
   "execution_count": 26,
   "metadata": {},
   "outputs": [],
   "source": [
    "\n",
    "import yaml\n",
    "from yaml.loader import SafeLoader\n",
    "import streamlit as st\n",
    "import streamlit_authenticator as stauth\n",
    "with open('data/config.yaml') as file:\n",
    "    config = yaml.load(file, Loader=SafeLoader)"
   ]
  },
  {
   "cell_type": "code",
   "execution_count": 27,
   "metadata": {},
   "outputs": [
    {
     "data": {
      "text/plain": [
       "{'credentials': {'usernames': {'jsmith': {'email': 'ugo.muhi@gmail.com',\n",
       "    'name': 'Ugo Muhieddine',\n",
       "    'password': '$2b$12$QzhrRLbHnmA2UsJCeMNy8eU.dpMlvmJSnpBio11yaOjLpiWlliZIe'},\n",
       "   'rbriggs': {'email': 'rbriggs@gmail.com',\n",
       "    'name': 'Rebecca Briggs',\n",
       "    'password': '$2b$12$1z/ZbWYpKys3fFRul9nqDO3bd.BpR1XIudHB1vtCknKdwf6yG5HuK'}}},\n",
       " 'cookie': {'expiry_days': 30,\n",
       "  'key': 'some_signature_key',\n",
       "  'name': 'some_cookie_name'},\n",
       " 'preauthorized': {'emails': ['melsby@gmail.com']}}"
      ]
     },
     "execution_count": 27,
     "metadata": {},
     "output_type": "execute_result"
    }
   ],
   "source": [
    "config"
   ]
  },
  {
   "cell_type": "code",
   "execution_count": null,
   "metadata": {},
   "outputs": [],
   "source": [
    "{\n",
    "            'id': recettes_df.id.max() + 1,\n",
    "            'date': recette_date,\n",
    "            'description': description,\n",
    "            'category': category,\n",
    "            'amount': amount\n",
    "        }"
   ]
  },
  {
   "cell_type": "code",
   "execution_count": 4,
   "metadata": {},
   "outputs": [
    {
     "data": {
      "text/html": [
       "<div>\n",
       "<style scoped>\n",
       "    .dataframe tbody tr th:only-of-type {\n",
       "        vertical-align: middle;\n",
       "    }\n",
       "\n",
       "    .dataframe tbody tr th {\n",
       "        vertical-align: top;\n",
       "    }\n",
       "\n",
       "    .dataframe thead th {\n",
       "        text-align: right;\n",
       "    }\n",
       "</style>\n",
       "<table border=\"1\" class=\"dataframe\">\n",
       "  <thead>\n",
       "    <tr style=\"text-align: right;\">\n",
       "      <th></th>\n",
       "      <th>0</th>\n",
       "      <th>1</th>\n",
       "      <th>2</th>\n",
       "      <th>3</th>\n",
       "      <th>4</th>\n",
       "      <th>5</th>\n",
       "    </tr>\n",
       "  </thead>\n",
       "  <tbody>\n",
       "    <tr>\n",
       "      <th>0</th>\n",
       "      <td>1</td>\n",
       "      <td>2023-08-12</td>\n",
       "      <td>Camping séminaires Descartes</td>\n",
       "      <td>Vacances</td>\n",
       "      <td>logement</td>\n",
       "      <td>97.00</td>\n",
       "    </tr>\n",
       "    <tr>\n",
       "      <th>1</th>\n",
       "      <td>2</td>\n",
       "      <td>2023-08-12</td>\n",
       "      <td>Disque dur toshiba</td>\n",
       "      <td>Achats</td>\n",
       "      <td>électronique</td>\n",
       "      <td>69.99</td>\n",
       "    </tr>\n",
       "    <tr>\n",
       "      <th>2</th>\n",
       "      <td>3</td>\n",
       "      <td>2023-08-11</td>\n",
       "      <td>inconnu</td>\n",
       "      <td>Autres</td>\n",
       "      <td>inconnu</td>\n",
       "      <td>1.50</td>\n",
       "    </tr>\n",
       "    <tr>\n",
       "      <th>3</th>\n",
       "      <td>4</td>\n",
       "      <td>2023-08-08</td>\n",
       "      <td>bar descartes</td>\n",
       "      <td>Les pêchés du soir</td>\n",
       "      <td>bar</td>\n",
       "      <td>18.00</td>\n",
       "    </tr>\n",
       "    <tr>\n",
       "      <th>4</th>\n",
       "      <td>5</td>\n",
       "      <td>2023-08-08</td>\n",
       "      <td>tabac</td>\n",
       "      <td>Les pêchés du soir</td>\n",
       "      <td>tabac</td>\n",
       "      <td>20.10</td>\n",
       "    </tr>\n",
       "    <tr>\n",
       "      <th>...</th>\n",
       "      <td>...</td>\n",
       "      <td>...</td>\n",
       "      <td>...</td>\n",
       "      <td>...</td>\n",
       "      <td>...</td>\n",
       "      <td>...</td>\n",
       "    </tr>\n",
       "    <tr>\n",
       "      <th>154</th>\n",
       "      <td>161</td>\n",
       "      <td>2023-08-21</td>\n",
       "      <td>kdo Antoine</td>\n",
       "      <td>Achats</td>\n",
       "      <td>cadeaux</td>\n",
       "      <td>5.20</td>\n",
       "    </tr>\n",
       "    <tr>\n",
       "      <th>155</th>\n",
       "      <td>162</td>\n",
       "      <td>2023-08-22</td>\n",
       "      <td>courses nems etc</td>\n",
       "      <td>Alimentation</td>\n",
       "      <td>Courses</td>\n",
       "      <td>19.00</td>\n",
       "    </tr>\n",
       "    <tr>\n",
       "      <th>156</th>\n",
       "      <td>163</td>\n",
       "      <td>2023-08-22</td>\n",
       "      <td>investissements aout</td>\n",
       "      <td>Épargne</td>\n",
       "      <td>investissement</td>\n",
       "      <td>50.00</td>\n",
       "    </tr>\n",
       "    <tr>\n",
       "      <th>157</th>\n",
       "      <td>164</td>\n",
       "      <td>2023-08-22</td>\n",
       "      <td>ticket festival rennes</td>\n",
       "      <td>Entretien personnel</td>\n",
       "      <td>culture</td>\n",
       "      <td>49.90</td>\n",
       "    </tr>\n",
       "    <tr>\n",
       "      <th>158</th>\n",
       "      <td>165</td>\n",
       "      <td>2023-08-22</td>\n",
       "      <td>marlusse et lapin tournée</td>\n",
       "      <td>Les pêchés du soir</td>\n",
       "      <td>bar</td>\n",
       "      <td>28.00</td>\n",
       "    </tr>\n",
       "  </tbody>\n",
       "</table>\n",
       "<p>159 rows × 6 columns</p>\n",
       "</div>"
      ],
      "text/plain": [
       "       0           1                             2                    3  \\\n",
       "0      1  2023-08-12  Camping séminaires Descartes             Vacances   \n",
       "1      2  2023-08-12            Disque dur toshiba               Achats   \n",
       "2      3  2023-08-11                       inconnu               Autres   \n",
       "3      4  2023-08-08                 bar descartes   Les pêchés du soir   \n",
       "4      5  2023-08-08                        tabac    Les pêchés du soir   \n",
       "..   ...         ...                           ...                  ...   \n",
       "154  161  2023-08-21                   kdo Antoine               Achats   \n",
       "155  162  2023-08-22              courses nems etc         Alimentation   \n",
       "156  163  2023-08-22          investissements aout              Épargne   \n",
       "157  164  2023-08-22        ticket festival rennes  Entretien personnel   \n",
       "158  165  2023-08-22     marlusse et lapin tournée   Les pêchés du soir   \n",
       "\n",
       "                  4      5  \n",
       "0          logement  97.00  \n",
       "1      électronique  69.99  \n",
       "2           inconnu   1.50  \n",
       "3               bar  18.00  \n",
       "4             tabac  20.10  \n",
       "..              ...    ...  \n",
       "154         cadeaux   5.20  \n",
       "155         Courses  19.00  \n",
       "156  investissement  50.00  \n",
       "157         culture  49.90  \n",
       "158             bar  28.00  \n",
       "\n",
       "[159 rows x 6 columns]"
      ]
     },
     "execution_count": 4,
     "metadata": {},
     "output_type": "execute_result"
    }
   ],
   "source": [
    "df1"
   ]
  },
  {
   "cell_type": "code",
   "execution_count": null,
   "metadata": {},
   "outputs": [],
   "source": [
    "pip install git+https://github.com/streamlit/files-connection"
   ]
  },
  {
   "cell_type": "code",
   "execution_count": 10,
   "metadata": {},
   "outputs": [],
   "source": [
    "# Your service account key information as a dictionary\n",
    "service_account_info = {\n",
    "    \"type\": st.secrets.connections.gcs.type,\n",
    "    \"project_id\": st.secrets.connections.gcs.project_id,\n",
    "    \"private_key_id\": st.secrets.connections.gcs.private_key_id,\n",
    "    \"private_key\": st.secrets.connections.gcs.private_key,\n",
    "    \"client_email\": st.secrets.connections.gcs.client_email,\n",
    "    \"client_id\": st.secrets.connections.gcs.client_id,\n",
    "    \"auth_uri\": st.secrets.connections.gcs.auth_uri,\n",
    "    \"token_uri\": st.secrets.connections.gcs.token_uri,\n",
    "    \"auth_provider_x509_cert_url\": st.secrets.connections.gcs.auth_provider_x509_cert_url,\n",
    "    \"client_x509_cert_url\": st.secrets.connections.gcs.client_x509_cert_url\n",
    "}\n",
    "\n",
    "# Initialize a client with your service account info\n",
    "client = storage.Client.from_service_account_info(service_account_info)\n"
   ]
  },
  {
   "cell_type": "code",
   "execution_count": 12,
   "metadata": {},
   "outputs": [],
   "source": [
    "\n",
    "# Replace these with your values\n",
    "project_id = st.secrets.connections.gcs.project_id\n",
    "bucket_name = \"data-account-app\"\n",
    "object_name = \"account_management_copy.db\"\n",
    "\n",
    "# Get the bucket\n",
    "bucket = client.get_bucket(bucket_name)\n",
    "\n",
    "# Get the blob (object)\n",
    "blob = bucket.blob(object_name)\n",
    "\n",
    "# Download the SQLite database file as bytes\n",
    "db_file_bytes = blob.download_as_bytes()\n",
    "\n",
    "# Open the SQLite database in memory (you can also specify a local file path)\n",
    "conn = sqlite3.connect(':memory:')"
   ]
  },
  {
   "cell_type": "code",
   "execution_count": 13,
   "metadata": {},
   "outputs": [],
   "source": [
    "CURSOR = CONN.cursor()"
   ]
  },
  {
   "cell_type": "code",
   "execution_count": 14,
   "metadata": {},
   "outputs": [],
   "source": [
    "# Fetch all expenses from the database\n",
    "CURSOR.execute(f\"SELECT * FROM expenses\")\n",
    "table_data = CURSOR.fetchall()\n",
    "\n",
    "df1 = pd.DataFrame(table_data)"
   ]
  },
  {
   "cell_type": "code",
   "execution_count": 15,
   "metadata": {},
   "outputs": [
    {
     "data": {
      "text/html": [
       "<div>\n",
       "<style scoped>\n",
       "    .dataframe tbody tr th:only-of-type {\n",
       "        vertical-align: middle;\n",
       "    }\n",
       "\n",
       "    .dataframe tbody tr th {\n",
       "        vertical-align: top;\n",
       "    }\n",
       "\n",
       "    .dataframe thead th {\n",
       "        text-align: right;\n",
       "    }\n",
       "</style>\n",
       "<table border=\"1\" class=\"dataframe\">\n",
       "  <thead>\n",
       "    <tr style=\"text-align: right;\">\n",
       "      <th></th>\n",
       "      <th>0</th>\n",
       "      <th>1</th>\n",
       "      <th>2</th>\n",
       "      <th>3</th>\n",
       "      <th>4</th>\n",
       "      <th>5</th>\n",
       "    </tr>\n",
       "  </thead>\n",
       "  <tbody>\n",
       "    <tr>\n",
       "      <th>0</th>\n",
       "      <td>1</td>\n",
       "      <td>2023-08-12</td>\n",
       "      <td>Camping séminaires Descartes</td>\n",
       "      <td>Vacances</td>\n",
       "      <td>logement</td>\n",
       "      <td>97.00</td>\n",
       "    </tr>\n",
       "    <tr>\n",
       "      <th>1</th>\n",
       "      <td>2</td>\n",
       "      <td>2023-08-12</td>\n",
       "      <td>Disque dur toshiba</td>\n",
       "      <td>Achats</td>\n",
       "      <td>électronique</td>\n",
       "      <td>69.99</td>\n",
       "    </tr>\n",
       "    <tr>\n",
       "      <th>2</th>\n",
       "      <td>3</td>\n",
       "      <td>2023-08-11</td>\n",
       "      <td>inconnu</td>\n",
       "      <td>Autres</td>\n",
       "      <td>inconnu</td>\n",
       "      <td>1.50</td>\n",
       "    </tr>\n",
       "    <tr>\n",
       "      <th>3</th>\n",
       "      <td>4</td>\n",
       "      <td>2023-08-08</td>\n",
       "      <td>bar descartes</td>\n",
       "      <td>Les pêchés du soir</td>\n",
       "      <td>bar</td>\n",
       "      <td>18.00</td>\n",
       "    </tr>\n",
       "    <tr>\n",
       "      <th>4</th>\n",
       "      <td>5</td>\n",
       "      <td>2023-08-08</td>\n",
       "      <td>tabac</td>\n",
       "      <td>Les pêchés du soir</td>\n",
       "      <td>tabac</td>\n",
       "      <td>20.10</td>\n",
       "    </tr>\n",
       "    <tr>\n",
       "      <th>...</th>\n",
       "      <td>...</td>\n",
       "      <td>...</td>\n",
       "      <td>...</td>\n",
       "      <td>...</td>\n",
       "      <td>...</td>\n",
       "      <td>...</td>\n",
       "    </tr>\n",
       "    <tr>\n",
       "      <th>154</th>\n",
       "      <td>161</td>\n",
       "      <td>2023-08-21</td>\n",
       "      <td>kdo Antoine</td>\n",
       "      <td>Achats</td>\n",
       "      <td>cadeaux</td>\n",
       "      <td>5.20</td>\n",
       "    </tr>\n",
       "    <tr>\n",
       "      <th>155</th>\n",
       "      <td>162</td>\n",
       "      <td>2023-08-22</td>\n",
       "      <td>courses nems etc</td>\n",
       "      <td>Alimentation</td>\n",
       "      <td>Courses</td>\n",
       "      <td>19.00</td>\n",
       "    </tr>\n",
       "    <tr>\n",
       "      <th>156</th>\n",
       "      <td>163</td>\n",
       "      <td>2023-08-22</td>\n",
       "      <td>investissements aout</td>\n",
       "      <td>Épargne</td>\n",
       "      <td>investissement</td>\n",
       "      <td>50.00</td>\n",
       "    </tr>\n",
       "    <tr>\n",
       "      <th>157</th>\n",
       "      <td>164</td>\n",
       "      <td>2023-08-22</td>\n",
       "      <td>ticket festival rennes</td>\n",
       "      <td>Entretien personnel</td>\n",
       "      <td>culture</td>\n",
       "      <td>49.90</td>\n",
       "    </tr>\n",
       "    <tr>\n",
       "      <th>158</th>\n",
       "      <td>165</td>\n",
       "      <td>2023-08-22</td>\n",
       "      <td>marlusse et lapin tournée</td>\n",
       "      <td>Les pêchés du soir</td>\n",
       "      <td>bar</td>\n",
       "      <td>28.00</td>\n",
       "    </tr>\n",
       "  </tbody>\n",
       "</table>\n",
       "<p>159 rows × 6 columns</p>\n",
       "</div>"
      ],
      "text/plain": [
       "       0           1                             2                    3  \\\n",
       "0      1  2023-08-12  Camping séminaires Descartes             Vacances   \n",
       "1      2  2023-08-12            Disque dur toshiba               Achats   \n",
       "2      3  2023-08-11                       inconnu               Autres   \n",
       "3      4  2023-08-08                 bar descartes   Les pêchés du soir   \n",
       "4      5  2023-08-08                        tabac    Les pêchés du soir   \n",
       "..   ...         ...                           ...                  ...   \n",
       "154  161  2023-08-21                   kdo Antoine               Achats   \n",
       "155  162  2023-08-22              courses nems etc         Alimentation   \n",
       "156  163  2023-08-22          investissements aout              Épargne   \n",
       "157  164  2023-08-22        ticket festival rennes  Entretien personnel   \n",
       "158  165  2023-08-22     marlusse et lapin tournée   Les pêchés du soir   \n",
       "\n",
       "                  4      5  \n",
       "0          logement  97.00  \n",
       "1      électronique  69.99  \n",
       "2           inconnu   1.50  \n",
       "3               bar  18.00  \n",
       "4             tabac  20.10  \n",
       "..              ...    ...  \n",
       "154         cadeaux   5.20  \n",
       "155         Courses  19.00  \n",
       "156  investissement  50.00  \n",
       "157         culture  49.90  \n",
       "158             bar  28.00  \n",
       "\n",
       "[159 rows x 6 columns]"
      ]
     },
     "execution_count": 15,
     "metadata": {},
     "output_type": "execute_result"
    }
   ],
   "source": [
    "df1"
   ]
  },
  {
   "cell_type": "code",
   "execution_count": 13,
   "metadata": {},
   "outputs": [],
   "source": [
    "expenses_df = get_df_from_table(CONN, CURSOR, 'expenses')\n",
    "recettes_df = get_df_from_table(CONN, CURSOR, 'recettes')"
   ]
  },
  {
   "cell_type": "code",
   "execution_count": 16,
   "metadata": {},
   "outputs": [
    {
     "data": {
      "text/html": [
       "<div>\n",
       "<style scoped>\n",
       "    .dataframe tbody tr th:only-of-type {\n",
       "        vertical-align: middle;\n",
       "    }\n",
       "\n",
       "    .dataframe tbody tr th {\n",
       "        vertical-align: top;\n",
       "    }\n",
       "\n",
       "    .dataframe thead th {\n",
       "        text-align: right;\n",
       "    }\n",
       "</style>\n",
       "<table border=\"1\" class=\"dataframe\">\n",
       "  <thead>\n",
       "    <tr style=\"text-align: right;\">\n",
       "      <th></th>\n",
       "      <th>id</th>\n",
       "      <th>date</th>\n",
       "      <th>description</th>\n",
       "      <th>category</th>\n",
       "      <th>sub_category</th>\n",
       "      <th>amount</th>\n",
       "    </tr>\n",
       "  </thead>\n",
       "  <tbody>\n",
       "    <tr>\n",
       "      <th>135</th>\n",
       "      <td>142</td>\n",
       "      <td>2023-06-05</td>\n",
       "      <td>habits guerissol</td>\n",
       "      <td>Achats</td>\n",
       "      <td>vêtement</td>\n",
       "      <td>17.0</td>\n",
       "    </tr>\n",
       "    <tr>\n",
       "      <th>136</th>\n",
       "      <td>143</td>\n",
       "      <td>2023-06-05</td>\n",
       "      <td>baguettes</td>\n",
       "      <td>Alimentation</td>\n",
       "      <td>Courses</td>\n",
       "      <td>1.1</td>\n",
       "    </tr>\n",
       "    <tr>\n",
       "      <th>134</th>\n",
       "      <td>141</td>\n",
       "      <td>2023-06-05</td>\n",
       "      <td>courses</td>\n",
       "      <td>Alimentation</td>\n",
       "      <td>Courses</td>\n",
       "      <td>22.0</td>\n",
       "    </tr>\n",
       "    <tr>\n",
       "      <th>139</th>\n",
       "      <td>146</td>\n",
       "      <td>2023-06-05</td>\n",
       "      <td>bières tancrède</td>\n",
       "      <td>Les pêchés du soir</td>\n",
       "      <td>bar</td>\n",
       "      <td>13.0</td>\n",
       "    </tr>\n",
       "    <tr>\n",
       "      <th>133</th>\n",
       "      <td>140</td>\n",
       "      <td>2023-06-05</td>\n",
       "      <td>loyer Juin</td>\n",
       "      <td>Logement</td>\n",
       "      <td>Loyer</td>\n",
       "      <td>690.0</td>\n",
       "    </tr>\n",
       "    <tr>\n",
       "      <th>...</th>\n",
       "      <td>...</td>\n",
       "      <td>...</td>\n",
       "      <td>...</td>\n",
       "      <td>...</td>\n",
       "      <td>...</td>\n",
       "      <td>...</td>\n",
       "    </tr>\n",
       "    <tr>\n",
       "      <th>154</th>\n",
       "      <td>161</td>\n",
       "      <td>2023-08-21</td>\n",
       "      <td>kdo Antoine</td>\n",
       "      <td>Achats</td>\n",
       "      <td>cadeaux</td>\n",
       "      <td>5.2</td>\n",
       "    </tr>\n",
       "    <tr>\n",
       "      <th>157</th>\n",
       "      <td>164</td>\n",
       "      <td>2023-08-22</td>\n",
       "      <td>ticket festival rennes</td>\n",
       "      <td>Entretien personnel</td>\n",
       "      <td>culture</td>\n",
       "      <td>49.9</td>\n",
       "    </tr>\n",
       "    <tr>\n",
       "      <th>155</th>\n",
       "      <td>162</td>\n",
       "      <td>2023-08-22</td>\n",
       "      <td>courses nems etc</td>\n",
       "      <td>Alimentation</td>\n",
       "      <td>Courses</td>\n",
       "      <td>19.0</td>\n",
       "    </tr>\n",
       "    <tr>\n",
       "      <th>156</th>\n",
       "      <td>163</td>\n",
       "      <td>2023-08-22</td>\n",
       "      <td>investissements aout</td>\n",
       "      <td>Épargne</td>\n",
       "      <td>investissement</td>\n",
       "      <td>50.0</td>\n",
       "    </tr>\n",
       "    <tr>\n",
       "      <th>158</th>\n",
       "      <td>165</td>\n",
       "      <td>2023-08-22</td>\n",
       "      <td>marlusse et lapin tournée</td>\n",
       "      <td>Les pêchés du soir</td>\n",
       "      <td>bar</td>\n",
       "      <td>28.0</td>\n",
       "    </tr>\n",
       "  </tbody>\n",
       "</table>\n",
       "<p>159 rows × 6 columns</p>\n",
       "</div>"
      ],
      "text/plain": [
       "      id       date                description             category  \\\n",
       "135  142 2023-06-05           habits guerissol               Achats   \n",
       "136  143 2023-06-05                  baguettes         Alimentation   \n",
       "134  141 2023-06-05                    courses         Alimentation   \n",
       "139  146 2023-06-05            bières tancrède   Les pêchés du soir   \n",
       "133  140 2023-06-05                 loyer Juin             Logement   \n",
       "..   ...        ...                        ...                  ...   \n",
       "154  161 2023-08-21                kdo Antoine               Achats   \n",
       "157  164 2023-08-22     ticket festival rennes  Entretien personnel   \n",
       "155  162 2023-08-22           courses nems etc         Alimentation   \n",
       "156  163 2023-08-22       investissements aout              Épargne   \n",
       "158  165 2023-08-22  marlusse et lapin tournée   Les pêchés du soir   \n",
       "\n",
       "       sub_category  amount  \n",
       "135        vêtement    17.0  \n",
       "136         Courses     1.1  \n",
       "134         Courses    22.0  \n",
       "139             bar    13.0  \n",
       "133           Loyer   690.0  \n",
       "..              ...     ...  \n",
       "154         cadeaux     5.2  \n",
       "157         culture    49.9  \n",
       "155         Courses    19.0  \n",
       "156  investissement    50.0  \n",
       "158             bar    28.0  \n",
       "\n",
       "[159 rows x 6 columns]"
      ]
     },
     "execution_count": 16,
     "metadata": {},
     "output_type": "execute_result"
    }
   ],
   "source": [
    "expenses_df"
   ]
  },
  {
   "cell_type": "code",
   "execution_count": 15,
   "metadata": {},
   "outputs": [],
   "source": [
    "# expenses_df.to_csv('data/ugo_expenses.csv', index=False)\n",
    "# recettes_df.to_csv('data/ugo_recettes.csv', index=False)"
   ]
  },
  {
   "cell_type": "code",
   "execution_count": 19,
   "metadata": {},
   "outputs": [],
   "source": [
    "# Form inputs for adding a new expense\n",
    "the_id = expenses_df.id.max() + 1 \n",
    "spending_date = \"09-12-1999\"\n",
    "description = \"test csv\"\n",
    "\n",
    "selected_catego = \"catego_test\"\n",
    "\n",
    "sub_category = \"sub catego test\"\n",
    "amount = 39\n",
    "\n",
    "add_row = [the_id, spending_date, description, selected_catego, sub_category, amount]"
   ]
  },
  {
   "cell_type": "code",
   "execution_count": 23,
   "metadata": {},
   "outputs": [],
   "source": [
    "expenses_df.loc[len(expenses_df)] = add_row"
   ]
  },
  {
   "cell_type": "code",
   "execution_count": 24,
   "metadata": {},
   "outputs": [
    {
     "data": {
      "text/html": [
       "<div>\n",
       "<style scoped>\n",
       "    .dataframe tbody tr th:only-of-type {\n",
       "        vertical-align: middle;\n",
       "    }\n",
       "\n",
       "    .dataframe tbody tr th {\n",
       "        vertical-align: top;\n",
       "    }\n",
       "\n",
       "    .dataframe thead th {\n",
       "        text-align: right;\n",
       "    }\n",
       "</style>\n",
       "<table border=\"1\" class=\"dataframe\">\n",
       "  <thead>\n",
       "    <tr style=\"text-align: right;\">\n",
       "      <th></th>\n",
       "      <th>id</th>\n",
       "      <th>date</th>\n",
       "      <th>description</th>\n",
       "      <th>category</th>\n",
       "      <th>sub_category</th>\n",
       "      <th>amount</th>\n",
       "    </tr>\n",
       "  </thead>\n",
       "  <tbody>\n",
       "    <tr>\n",
       "      <th>135</th>\n",
       "      <td>142</td>\n",
       "      <td>2023-06-05 00:00:00</td>\n",
       "      <td>habits guerissol</td>\n",
       "      <td>Achats</td>\n",
       "      <td>vêtement</td>\n",
       "      <td>17.0</td>\n",
       "    </tr>\n",
       "    <tr>\n",
       "      <th>136</th>\n",
       "      <td>143</td>\n",
       "      <td>2023-06-05 00:00:00</td>\n",
       "      <td>baguettes</td>\n",
       "      <td>Alimentation</td>\n",
       "      <td>Courses</td>\n",
       "      <td>1.1</td>\n",
       "    </tr>\n",
       "    <tr>\n",
       "      <th>134</th>\n",
       "      <td>141</td>\n",
       "      <td>2023-06-05 00:00:00</td>\n",
       "      <td>courses</td>\n",
       "      <td>Alimentation</td>\n",
       "      <td>Courses</td>\n",
       "      <td>22.0</td>\n",
       "    </tr>\n",
       "    <tr>\n",
       "      <th>139</th>\n",
       "      <td>146</td>\n",
       "      <td>2023-06-05 00:00:00</td>\n",
       "      <td>bières tancrède</td>\n",
       "      <td>Les pêchés du soir</td>\n",
       "      <td>bar</td>\n",
       "      <td>13.0</td>\n",
       "    </tr>\n",
       "    <tr>\n",
       "      <th>133</th>\n",
       "      <td>140</td>\n",
       "      <td>2023-06-05 00:00:00</td>\n",
       "      <td>loyer Juin</td>\n",
       "      <td>Logement</td>\n",
       "      <td>Loyer</td>\n",
       "      <td>690.0</td>\n",
       "    </tr>\n",
       "    <tr>\n",
       "      <th>...</th>\n",
       "      <td>...</td>\n",
       "      <td>...</td>\n",
       "      <td>...</td>\n",
       "      <td>...</td>\n",
       "      <td>...</td>\n",
       "      <td>...</td>\n",
       "    </tr>\n",
       "    <tr>\n",
       "      <th>157</th>\n",
       "      <td>164</td>\n",
       "      <td>2023-08-22 00:00:00</td>\n",
       "      <td>ticket festival rennes</td>\n",
       "      <td>Entretien personnel</td>\n",
       "      <td>culture</td>\n",
       "      <td>49.9</td>\n",
       "    </tr>\n",
       "    <tr>\n",
       "      <th>155</th>\n",
       "      <td>162</td>\n",
       "      <td>2023-08-22 00:00:00</td>\n",
       "      <td>courses nems etc</td>\n",
       "      <td>Alimentation</td>\n",
       "      <td>Courses</td>\n",
       "      <td>19.0</td>\n",
       "    </tr>\n",
       "    <tr>\n",
       "      <th>156</th>\n",
       "      <td>163</td>\n",
       "      <td>2023-08-22 00:00:00</td>\n",
       "      <td>investissements aout</td>\n",
       "      <td>Épargne</td>\n",
       "      <td>investissement</td>\n",
       "      <td>50.0</td>\n",
       "    </tr>\n",
       "    <tr>\n",
       "      <th>158</th>\n",
       "      <td>165</td>\n",
       "      <td>2023-08-22 00:00:00</td>\n",
       "      <td>marlusse et lapin tournée</td>\n",
       "      <td>Les pêchés du soir</td>\n",
       "      <td>bar</td>\n",
       "      <td>28.0</td>\n",
       "    </tr>\n",
       "    <tr>\n",
       "      <th>159</th>\n",
       "      <td>166</td>\n",
       "      <td>09-12-1999</td>\n",
       "      <td>test csv</td>\n",
       "      <td>catego_test</td>\n",
       "      <td>sub catego test</td>\n",
       "      <td>39.0</td>\n",
       "    </tr>\n",
       "  </tbody>\n",
       "</table>\n",
       "<p>160 rows × 6 columns</p>\n",
       "</div>"
      ],
      "text/plain": [
       "      id                 date                description             category  \\\n",
       "135  142  2023-06-05 00:00:00           habits guerissol               Achats   \n",
       "136  143  2023-06-05 00:00:00                  baguettes         Alimentation   \n",
       "134  141  2023-06-05 00:00:00                    courses         Alimentation   \n",
       "139  146  2023-06-05 00:00:00            bières tancrède   Les pêchés du soir   \n",
       "133  140  2023-06-05 00:00:00                 loyer Juin             Logement   \n",
       "..   ...                  ...                        ...                  ...   \n",
       "157  164  2023-08-22 00:00:00     ticket festival rennes  Entretien personnel   \n",
       "155  162  2023-08-22 00:00:00           courses nems etc         Alimentation   \n",
       "156  163  2023-08-22 00:00:00       investissements aout              Épargne   \n",
       "158  165  2023-08-22 00:00:00  marlusse et lapin tournée   Les pêchés du soir   \n",
       "159  166           09-12-1999                   test csv          catego_test   \n",
       "\n",
       "        sub_category  amount  \n",
       "135         vêtement    17.0  \n",
       "136          Courses     1.1  \n",
       "134          Courses    22.0  \n",
       "139              bar    13.0  \n",
       "133            Loyer   690.0  \n",
       "..               ...     ...  \n",
       "157          culture    49.9  \n",
       "155          Courses    19.0  \n",
       "156   investissement    50.0  \n",
       "158              bar    28.0  \n",
       "159  sub catego test    39.0  \n",
       "\n",
       "[160 rows x 6 columns]"
      ]
     },
     "execution_count": 24,
     "metadata": {},
     "output_type": "execute_result"
    }
   ],
   "source": [
    "expenses_df"
   ]
  },
  {
   "cell_type": "code",
   "execution_count": 35,
   "metadata": {},
   "outputs": [
    {
     "data": {
      "text/plain": [
       "array([1])"
      ]
     },
     "execution_count": 35,
     "metadata": {},
     "output_type": "execute_result"
    }
   ],
   "source": [
    "df1.compare(df2, align_axis = 0).reset_index().level_0.unique()"
   ]
  },
  {
   "cell_type": "code",
   "execution_count": 33,
   "metadata": {},
   "outputs": [
    {
     "data": {
      "text/html": [
       "<div>\n",
       "<style scoped>\n",
       "    .dataframe tbody tr th:only-of-type {\n",
       "        vertical-align: middle;\n",
       "    }\n",
       "\n",
       "    .dataframe tbody tr th {\n",
       "        vertical-align: top;\n",
       "    }\n",
       "\n",
       "    .dataframe thead th {\n",
       "        text-align: right;\n",
       "    }\n",
       "</style>\n",
       "<table border=\"1\" class=\"dataframe\">\n",
       "  <thead>\n",
       "    <tr style=\"text-align: right;\">\n",
       "      <th></th>\n",
       "      <th></th>\n",
       "      <th>1</th>\n",
       "      <th>2</th>\n",
       "      <th>3</th>\n",
       "      <th>4</th>\n",
       "      <th>5</th>\n",
       "    </tr>\n",
       "  </thead>\n",
       "  <tbody>\n",
       "    <tr>\n",
       "      <th rowspan=\"2\" valign=\"top\">1</th>\n",
       "      <th>self</th>\n",
       "      <td>2023-08-12</td>\n",
       "      <td>Disque dur toshiba</td>\n",
       "      <td>Achats</td>\n",
       "      <td>électronique</td>\n",
       "      <td>69.99</td>\n",
       "    </tr>\n",
       "    <tr>\n",
       "      <th>other</th>\n",
       "      <td>3</td>\n",
       "      <td>2</td>\n",
       "      <td>3</td>\n",
       "      <td>3</td>\n",
       "      <td>4.00</td>\n",
       "    </tr>\n",
       "  </tbody>\n",
       "</table>\n",
       "</div>"
      ],
      "text/plain": [
       "                  1                   2       3             4      5\n",
       "1 self   2023-08-12  Disque dur toshiba  Achats  électronique  69.99\n",
       "  other           3                   2       3             3   4.00"
      ]
     },
     "execution_count": 33,
     "metadata": {},
     "output_type": "execute_result"
    }
   ],
   "source": [
    "df1.compare(df2, align_axis=0, keep_shape=False, keep_equal=False, result_names=('self', 'other'))\n",
    "\n"
   ]
  },
  {
   "cell_type": "code",
   "execution_count": 18,
   "metadata": {},
   "outputs": [],
   "source": [
    "d = {1: 'a', 2:'z'}"
   ]
  },
  {
   "cell_type": "code",
   "execution_count": 20,
   "metadata": {},
   "outputs": [
    {
     "data": {
      "text/plain": [
       "(1, 2)"
      ]
     },
     "execution_count": 20,
     "metadata": {},
     "output_type": "execute_result"
    }
   ],
   "source": [
    "tuple([1,2])"
   ]
  },
  {
   "cell_type": "code",
   "execution_count": 17,
   "metadata": {},
   "outputs": [
    {
     "data": {
      "text/plain": [
       "['a', 'b']"
      ]
     },
     "execution_count": 17,
     "metadata": {},
     "output_type": "execute_result"
    }
   ],
   "source": [
    "[col for col in ['a', 'b', 'id'] if col != 'id']"
   ]
  },
  {
   "cell_type": "code",
   "execution_count": 16,
   "metadata": {},
   "outputs": [
    {
     "data": {
      "text/html": [
       "<div>\n",
       "<style scoped>\n",
       "    .dataframe tbody tr th:only-of-type {\n",
       "        vertical-align: middle;\n",
       "    }\n",
       "\n",
       "    .dataframe tbody tr th {\n",
       "        vertical-align: top;\n",
       "    }\n",
       "\n",
       "    .dataframe thead th {\n",
       "        text-align: right;\n",
       "    }\n",
       "</style>\n",
       "<table border=\"1\" class=\"dataframe\">\n",
       "  <thead>\n",
       "    <tr style=\"text-align: right;\">\n",
       "      <th></th>\n",
       "      <th>id</th>\n",
       "      <th>date</th>\n",
       "      <th>description</th>\n",
       "      <th>category</th>\n",
       "      <th>sub_category</th>\n",
       "      <th>amount</th>\n",
       "    </tr>\n",
       "  </thead>\n",
       "  <tbody>\n",
       "    <tr>\n",
       "      <th>0</th>\n",
       "      <td>1</td>\n",
       "      <td>2023-08-12</td>\n",
       "      <td>Camping séminaires Descartes</td>\n",
       "      <td>Vacances</td>\n",
       "      <td>logement</td>\n",
       "      <td>97.00</td>\n",
       "    </tr>\n",
       "    <tr>\n",
       "      <th>1</th>\n",
       "      <td>2</td>\n",
       "      <td>2023-08-12</td>\n",
       "      <td>Disque dur toshiba</td>\n",
       "      <td>Achats</td>\n",
       "      <td>électronique</td>\n",
       "      <td>69.99</td>\n",
       "    </tr>\n",
       "    <tr>\n",
       "      <th>2</th>\n",
       "      <td>3</td>\n",
       "      <td>2023-08-11</td>\n",
       "      <td>inconnu</td>\n",
       "      <td>Autres</td>\n",
       "      <td>inconnu</td>\n",
       "      <td>1.50</td>\n",
       "    </tr>\n",
       "    <tr>\n",
       "      <th>3</th>\n",
       "      <td>4</td>\n",
       "      <td>2023-08-08</td>\n",
       "      <td>bar descartes</td>\n",
       "      <td>Les pêchés du soir</td>\n",
       "      <td>bar</td>\n",
       "      <td>18.00</td>\n",
       "    </tr>\n",
       "    <tr>\n",
       "      <th>4</th>\n",
       "      <td>5</td>\n",
       "      <td>2023-08-08</td>\n",
       "      <td>tabac</td>\n",
       "      <td>Les pêchés du soir</td>\n",
       "      <td>tabac</td>\n",
       "      <td>20.10</td>\n",
       "    </tr>\n",
       "    <tr>\n",
       "      <th>5</th>\n",
       "      <td>6</td>\n",
       "      <td>2023-08-07</td>\n",
       "      <td>chaussures</td>\n",
       "      <td>Achats</td>\n",
       "      <td>vêtement</td>\n",
       "      <td>10.00</td>\n",
       "    </tr>\n",
       "    <tr>\n",
       "      <th>6</th>\n",
       "      <td>7</td>\n",
       "      <td>2023-08-07</td>\n",
       "      <td>franprix courses</td>\n",
       "      <td>Alimentation</td>\n",
       "      <td>Courses</td>\n",
       "      <td>16.03</td>\n",
       "    </tr>\n",
       "    <tr>\n",
       "      <th>7</th>\n",
       "      <td>8</td>\n",
       "      <td>2023-08-07</td>\n",
       "      <td>clope electro</td>\n",
       "      <td>Achats</td>\n",
       "      <td>CE</td>\n",
       "      <td>17.80</td>\n",
       "    </tr>\n",
       "    <tr>\n",
       "      <th>8</th>\n",
       "      <td>9</td>\n",
       "      <td>2023-08-07</td>\n",
       "      <td>Kebab falafel</td>\n",
       "      <td>Les pêchés du soir</td>\n",
       "      <td>Kebab</td>\n",
       "      <td>17.00</td>\n",
       "    </tr>\n",
       "    <tr>\n",
       "      <th>9</th>\n",
       "      <td>10</td>\n",
       "      <td>2023-08-03</td>\n",
       "      <td>coupe vent rouge</td>\n",
       "      <td>Achats</td>\n",
       "      <td>vêtement</td>\n",
       "      <td>8.83</td>\n",
       "    </tr>\n",
       "    <tr>\n",
       "      <th>10</th>\n",
       "      <td>11</td>\n",
       "      <td>2023-08-03</td>\n",
       "      <td>loyer aout</td>\n",
       "      <td>Logement</td>\n",
       "      <td>Loyer</td>\n",
       "      <td>690.00</td>\n",
       "    </tr>\n",
       "    <tr>\n",
       "      <th>11</th>\n",
       "      <td>12</td>\n",
       "      <td>2023-08-02</td>\n",
       "      <td>courses</td>\n",
       "      <td>Alimentation</td>\n",
       "      <td>Courses</td>\n",
       "      <td>7.50</td>\n",
       "    </tr>\n",
       "    <tr>\n",
       "      <th>12</th>\n",
       "      <td>13</td>\n",
       "      <td>2023-08-02</td>\n",
       "      <td>Bouillon avec sacha (me doit 30 balles mdr)</td>\n",
       "      <td>Les pêchés du soir</td>\n",
       "      <td>restaurants</td>\n",
       "      <td>60.00</td>\n",
       "    </tr>\n",
       "    <tr>\n",
       "      <th>13</th>\n",
       "      <td>15</td>\n",
       "      <td>2023-07-31</td>\n",
       "      <td>retraits</td>\n",
       "      <td>Autres</td>\n",
       "      <td>retraits</td>\n",
       "      <td>10.00</td>\n",
       "    </tr>\n",
       "    <tr>\n",
       "      <th>14</th>\n",
       "      <td>16</td>\n",
       "      <td>2023-07-31</td>\n",
       "      <td>Antarius</td>\n",
       "      <td>Autres</td>\n",
       "      <td>Antarius</td>\n",
       "      <td>300.00</td>\n",
       "    </tr>\n",
       "    <tr>\n",
       "      <th>15</th>\n",
       "      <td>17</td>\n",
       "      <td>2023-07-31</td>\n",
       "      <td>retraits</td>\n",
       "      <td>Autres</td>\n",
       "      <td>retraits</td>\n",
       "      <td>30.00</td>\n",
       "    </tr>\n",
       "    <tr>\n",
       "      <th>16</th>\n",
       "      <td>18</td>\n",
       "      <td>2023-07-31</td>\n",
       "      <td>kebab</td>\n",
       "      <td>Les pêchés du soir</td>\n",
       "      <td>Kebab</td>\n",
       "      <td>8.50</td>\n",
       "    </tr>\n",
       "    <tr>\n",
       "      <th>17</th>\n",
       "      <td>19</td>\n",
       "      <td>2023-07-31</td>\n",
       "      <td>deauville croissants</td>\n",
       "      <td>Vacances</td>\n",
       "      <td>autres</td>\n",
       "      <td>7.30</td>\n",
       "    </tr>\n",
       "    <tr>\n",
       "      <th>18</th>\n",
       "      <td>20</td>\n",
       "      <td>2023-07-31</td>\n",
       "      <td>deauville autre</td>\n",
       "      <td>Vacances</td>\n",
       "      <td>autres</td>\n",
       "      <td>14.00</td>\n",
       "    </tr>\n",
       "    <tr>\n",
       "      <th>19</th>\n",
       "      <td>21</td>\n",
       "      <td>2023-07-31</td>\n",
       "      <td>deauville minigolf</td>\n",
       "      <td>Vacances</td>\n",
       "      <td>activités</td>\n",
       "      <td>40.00</td>\n",
       "    </tr>\n",
       "    <tr>\n",
       "      <th>20</th>\n",
       "      <td>22</td>\n",
       "      <td>2023-07-28</td>\n",
       "      <td>carte commune</td>\n",
       "      <td>Alimentation</td>\n",
       "      <td>virement compte commun</td>\n",
       "      <td>200.00</td>\n",
       "    </tr>\n",
       "    <tr>\n",
       "      <th>21</th>\n",
       "      <td>23</td>\n",
       "      <td>2023-07-28</td>\n",
       "      <td>resto indien</td>\n",
       "      <td>Les pêchés du soir</td>\n",
       "      <td>restaurants</td>\n",
       "      <td>25.75</td>\n",
       "    </tr>\n",
       "  </tbody>\n",
       "</table>\n",
       "</div>"
      ],
      "text/plain": [
       "    id        date                                  description  \\\n",
       "0    1  2023-08-12                 Camping séminaires Descartes   \n",
       "1    2  2023-08-12                           Disque dur toshiba   \n",
       "2    3  2023-08-11                                      inconnu   \n",
       "3    4  2023-08-08                                bar descartes   \n",
       "4    5  2023-08-08                                       tabac    \n",
       "5    6  2023-08-07                                   chaussures   \n",
       "6    7  2023-08-07                             franprix courses   \n",
       "7    8  2023-08-07                                clope electro   \n",
       "8    9  2023-08-07                                Kebab falafel   \n",
       "9   10  2023-08-03                             coupe vent rouge   \n",
       "10  11  2023-08-03                                   loyer aout   \n",
       "11  12  2023-08-02                                      courses   \n",
       "12  13  2023-08-02  Bouillon avec sacha (me doit 30 balles mdr)   \n",
       "13  15  2023-07-31                                     retraits   \n",
       "14  16  2023-07-31                                     Antarius   \n",
       "15  17  2023-07-31                                     retraits   \n",
       "16  18  2023-07-31                                        kebab   \n",
       "17  19  2023-07-31                         deauville croissants   \n",
       "18  20  2023-07-31                              deauville autre   \n",
       "19  21  2023-07-31                           deauville minigolf   \n",
       "20  22  2023-07-28                                carte commune   \n",
       "21  23  2023-07-28                                 resto indien   \n",
       "\n",
       "              category            sub_category  amount  \n",
       "0             Vacances                logement   97.00  \n",
       "1               Achats            électronique   69.99  \n",
       "2               Autres                 inconnu    1.50  \n",
       "3   Les pêchés du soir                     bar   18.00  \n",
       "4   Les pêchés du soir                   tabac   20.10  \n",
       "5               Achats                vêtement   10.00  \n",
       "6         Alimentation                 Courses   16.03  \n",
       "7               Achats                      CE   17.80  \n",
       "8   Les pêchés du soir                   Kebab   17.00  \n",
       "9               Achats                vêtement    8.83  \n",
       "10            Logement                   Loyer  690.00  \n",
       "11        Alimentation                 Courses    7.50  \n",
       "12  Les pêchés du soir             restaurants   60.00  \n",
       "13              Autres                retraits   10.00  \n",
       "14              Autres                Antarius  300.00  \n",
       "15              Autres                retraits   30.00  \n",
       "16  Les pêchés du soir                   Kebab    8.50  \n",
       "17            Vacances                  autres    7.30  \n",
       "18            Vacances                  autres   14.00  \n",
       "19            Vacances               activités   40.00  \n",
       "20        Alimentation  virement compte commun  200.00  \n",
       "21  Les pêchés du soir             restaurants   25.75  "
      ]
     },
     "execution_count": 16,
     "metadata": {},
     "output_type": "execute_result"
    }
   ],
   "source": [
    "pd.DataFrame(table_data, columns=column_names.values())"
   ]
  },
  {
   "cell_type": "code",
   "execution_count": 37,
   "metadata": {},
   "outputs": [],
   "source": [
    "CONN.close()"
   ]
  },
  {
   "cell_type": "code",
   "execution_count": 26,
   "metadata": {},
   "outputs": [],
   "source": [
    "with open(DATA_PATH / 'categories.json', 'r') as json_file:\n",
    "    data = json.load(json_file)"
   ]
  },
  {
   "cell_type": "code",
   "execution_count": 27,
   "metadata": {},
   "outputs": [
    {
     "data": {
      "text/plain": [
       "<sqlite3.Cursor at 0x7fed5087c340>"
      ]
     },
     "execution_count": 27,
     "metadata": {},
     "output_type": "execute_result"
    }
   ],
   "source": [
    "# Create the users table if it doesn't exist\n",
    "CURSOR.execute('''\n",
    "    CREATE TABLE IF NOT EXISTS expenses (\n",
    "    id INTEGER PRIMARY KEY,\n",
    "    date DATE,\n",
    "    description TEXT,\n",
    "    category TEXT,\n",
    "    sub_category TEXT,\n",
    "    amount REAL\n",
    ");\n",
    "''')"
   ]
  },
  {
   "cell_type": "code",
   "execution_count": 28,
   "metadata": {},
   "outputs": [
    {
     "data": {
      "text/plain": [
       "<sqlite3.Cursor at 0x7fed5087c340>"
      ]
     },
     "execution_count": 28,
     "metadata": {},
     "output_type": "execute_result"
    }
   ],
   "source": [
    "CURSOR.execute('''\n",
    "    CREATE TABLE IF NOT EXISTS recettes (\n",
    "    id INTEGER PRIMARY KEY,\n",
    "    date DATE,\n",
    "    description TEXT,\n",
    "    category TEXT,\n",
    "    amount REAL\n",
    ");\n",
    "''')"
   ]
  },
  {
   "cell_type": "code",
   "execution_count": 31,
   "metadata": {},
   "outputs": [
    {
     "data": {
      "text/plain": [
       "<sqlite3.Cursor at 0x7fed5087c340>"
      ]
     },
     "execution_count": 31,
     "metadata": {},
     "output_type": "execute_result"
    }
   ],
   "source": [
    "# Form inputs\n",
    "spending_date =  date.today()\n",
    "description = \"test\"\n",
    "category = \"test\"\n",
    "sub_cat = \"test\"\n",
    "amount = 74\n",
    "\n",
    "CURSOR.execute(\"INSERT INTO expenses (date, description, category, sub_category, amount) VALUES (?, ?, ?, ?, ?)\",\n",
    "            (spending_date, description, category, sub_cat, amount))"
   ]
  },
  {
   "cell_type": "code",
   "execution_count": 33,
   "metadata": {},
   "outputs": [
    {
     "name": "stdout",
     "output_type": "stream",
     "text": [
      "(1, '2023-08-15', 'test', 'test', 'test', 74.0)\n"
     ]
    }
   ],
   "source": [
    "# Fetch all expenses from the database\n",
    "CURSOR.execute(\"SELECT * FROM expenses\")\n",
    "expenses = CURSOR.fetchall()\n",
    "\n",
    "# Print the fetched expenses\n",
    "for expense in expenses:\n",
    "    print(expense)"
   ]
  },
  {
   "cell_type": "code",
   "execution_count": 35,
   "metadata": {},
   "outputs": [],
   "source": [
    "CURSOR.close(\n",
    ")"
   ]
  },
  {
   "cell_type": "code",
   "execution_count": 36,
   "metadata": {},
   "outputs": [
    {
     "data": {
      "text/plain": [
       "<sqlite3.Cursor at 0x7fed5087c340>"
      ]
     },
     "execution_count": 36,
     "metadata": {},
     "output_type": "execute_result"
    }
   ],
   "source": [
    "CURSOR"
   ]
  },
  {
   "cell_type": "code",
   "execution_count": null,
   "metadata": {},
   "outputs": [],
   "source": []
  }
 ],
 "metadata": {
  "kernelspec": {
   "display_name": "Python 3.10.12 ('my_account')",
   "language": "python",
   "name": "python3"
  },
  "language_info": {
   "codemirror_mode": {
    "name": "ipython",
    "version": 3
   },
   "file_extension": ".py",
   "mimetype": "text/x-python",
   "name": "python",
   "nbconvert_exporter": "python",
   "pygments_lexer": "ipython3",
   "version": "3.10.12"
  },
  "orig_nbformat": 4,
  "vscode": {
   "interpreter": {
    "hash": "fb43f5127a4f3020eb6e5e26c81723d8414011d01a62c58f1ef69b42dd1fe726"
   }
  }
 },
 "nbformat": 4,
 "nbformat_minor": 2
}
