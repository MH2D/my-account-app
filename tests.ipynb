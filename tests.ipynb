{
 "cells": [
  {
   "cell_type": "code",
   "execution_count": 12,
   "metadata": {},
   "outputs": [],
   "source": [
    "import sqlite3\n",
    "import json\n",
    "from pathlib import Path\n",
    "from datetime import date\n",
    "import pandas as pd\n",
    "\n",
    "DATA_PATH = Path('data')\n",
    "CONN = sqlite3.connect(DATA_PATH / 'account_management.db')\n",
    "CURSOR = CONN.cursor()"
   ]
  },
  {
   "cell_type": "code",
   "execution_count": 4,
   "metadata": {},
   "outputs": [
    {
     "name": "stdout",
     "output_type": "stream",
     "text": [
      "Collecting SQLAlchemy\n",
      "  Obtaining dependency information for SQLAlchemy from https://files.pythonhosted.org/packages/fe/1c/d3ca3095528c262125251ee42782086d1d2bad4e59adf0dbdd9540147c23/SQLAlchemy-2.0.20-cp310-cp310-macosx_10_9_x86_64.whl.metadata\n",
      "  Using cached SQLAlchemy-2.0.20-cp310-cp310-macosx_10_9_x86_64.whl.metadata (9.4 kB)\n",
      "Collecting mysqlclient\n",
      "  Using cached mysqlclient-2.2.0.tar.gz (89 kB)\n",
      "  Installing build dependencies ... \u001b[?25ldone\n",
      "\u001b[?25h  Getting requirements to build wheel ... \u001b[?25lerror\n",
      "  \u001b[1;31merror\u001b[0m: \u001b[1msubprocess-exited-with-error\u001b[0m\n",
      "  \n",
      "  \u001b[31m×\u001b[0m \u001b[32mGetting requirements to build wheel\u001b[0m did not run successfully.\n",
      "  \u001b[31m│\u001b[0m exit code: \u001b[1;36m1\u001b[0m\n",
      "  \u001b[31m╰─>\u001b[0m \u001b[31m[22 lines of output]\u001b[0m\n",
      "  \u001b[31m   \u001b[0m Trying pkg-config --exists mysqlclient\n",
      "  \u001b[31m   \u001b[0m Command 'pkg-config --exists mysqlclient' returned non-zero exit status 1.\n",
      "  \u001b[31m   \u001b[0m Trying pkg-config --exists mariadb\n",
      "  \u001b[31m   \u001b[0m Command 'pkg-config --exists mariadb' returned non-zero exit status 1.\n",
      "  \u001b[31m   \u001b[0m Traceback (most recent call last):\n",
      "  \u001b[31m   \u001b[0m   File \"/Users/muhieddineugo/miniconda3/envs/my_account/lib/python3.10/site-packages/pip/_vendor/pyproject_hooks/_in_process/_in_process.py\", line 353, in <module>\n",
      "  \u001b[31m   \u001b[0m     main()\n",
      "  \u001b[31m   \u001b[0m   File \"/Users/muhieddineugo/miniconda3/envs/my_account/lib/python3.10/site-packages/pip/_vendor/pyproject_hooks/_in_process/_in_process.py\", line 335, in main\n",
      "  \u001b[31m   \u001b[0m     json_out['return_val'] = hook(**hook_input['kwargs'])\n",
      "  \u001b[31m   \u001b[0m   File \"/Users/muhieddineugo/miniconda3/envs/my_account/lib/python3.10/site-packages/pip/_vendor/pyproject_hooks/_in_process/_in_process.py\", line 118, in get_requires_for_build_wheel\n",
      "  \u001b[31m   \u001b[0m     return hook(config_settings)\n",
      "  \u001b[31m   \u001b[0m   File \"/private/var/folders/17/nbyq4zpd1ys5gm9fpsnxxq740000gn/T/pip-build-env-xmx__io8/overlay/lib/python3.10/site-packages/setuptools/build_meta.py\", line 355, in get_requires_for_build_wheel\n",
      "  \u001b[31m   \u001b[0m     return self._get_build_requires(config_settings, requirements=['wheel'])\n",
      "  \u001b[31m   \u001b[0m   File \"/private/var/folders/17/nbyq4zpd1ys5gm9fpsnxxq740000gn/T/pip-build-env-xmx__io8/overlay/lib/python3.10/site-packages/setuptools/build_meta.py\", line 325, in _get_build_requires\n",
      "  \u001b[31m   \u001b[0m     self.run_setup()\n",
      "  \u001b[31m   \u001b[0m   File \"/private/var/folders/17/nbyq4zpd1ys5gm9fpsnxxq740000gn/T/pip-build-env-xmx__io8/overlay/lib/python3.10/site-packages/setuptools/build_meta.py\", line 341, in run_setup\n",
      "  \u001b[31m   \u001b[0m     exec(code, locals())\n",
      "  \u001b[31m   \u001b[0m   File \"<string>\", line 154, in <module>\n",
      "  \u001b[31m   \u001b[0m   File \"<string>\", line 48, in get_config_posix\n",
      "  \u001b[31m   \u001b[0m   File \"<string>\", line 27, in find_package_name\n",
      "  \u001b[31m   \u001b[0m Exception: Can not find valid pkg-config name.\n",
      "  \u001b[31m   \u001b[0m Specify MYSQLCLIENT_CFLAGS and MYSQLCLIENT_LDFLAGS env vars manually\n",
      "  \u001b[31m   \u001b[0m \u001b[31m[end of output]\u001b[0m\n",
      "  \n",
      "  \u001b[1;35mnote\u001b[0m: This error originates from a subprocess, and is likely not a problem with pip.\n",
      "\u001b[?25h\u001b[1;31merror\u001b[0m: \u001b[1msubprocess-exited-with-error\u001b[0m\n",
      "\n",
      "\u001b[31m×\u001b[0m \u001b[32mGetting requirements to build wheel\u001b[0m did not run successfully.\n",
      "\u001b[31m│\u001b[0m exit code: \u001b[1;36m1\u001b[0m\n",
      "\u001b[31m╰─>\u001b[0m See above for output.\n",
      "\n",
      "\u001b[1;35mnote\u001b[0m: This error originates from a subprocess, and is likely not a problem with pip.\n",
      "Note: you may need to restart the kernel to use updated packages.\n"
     ]
    }
   ],
   "source": [
    "pip install SQLAlchemy mysqlclient"
   ]
  },
  {
   "cell_type": "code",
   "execution_count": 3,
   "metadata": {},
   "outputs": [
    {
     "ename": "ModuleNotFoundError",
     "evalue": "No module named 'sqlalchemy'. You need to install the 'sqlalchemy' package to use this connection.",
     "output_type": "error",
     "traceback": [
      "\u001b[0;31m---------------------------------------------------------------------------\u001b[0m",
      "\u001b[0;31mCacheKeyNotFoundError\u001b[0m                     Traceback (most recent call last)",
      "File \u001b[0;32m~/miniconda3/envs/my_account/lib/python3.10/site-packages/streamlit/runtime/caching/cache_utils.py:263\u001b[0m, in \u001b[0;36mCachedFunc._get_or_create_cached_value\u001b[0;34m(self, func_args, func_kwargs)\u001b[0m\n\u001b[1;32m    262\u001b[0m \u001b[39mtry\u001b[39;00m:\n\u001b[0;32m--> 263\u001b[0m     cached_result \u001b[39m=\u001b[39m cache\u001b[39m.\u001b[39;49mread_result(value_key)\n\u001b[1;32m    264\u001b[0m     \u001b[39mreturn\u001b[39;00m \u001b[39mself\u001b[39m\u001b[39m.\u001b[39m_handle_cache_hit(cached_result)\n",
      "File \u001b[0;32m~/miniconda3/envs/my_account/lib/python3.10/site-packages/streamlit/runtime/caching/cache_resource_api.py:500\u001b[0m, in \u001b[0;36mResourceCache.read_result\u001b[0;34m(self, key)\u001b[0m\n\u001b[1;32m    498\u001b[0m \u001b[39mif\u001b[39;00m key \u001b[39mnot\u001b[39;00m \u001b[39min\u001b[39;00m \u001b[39mself\u001b[39m\u001b[39m.\u001b[39m_mem_cache:\n\u001b[1;32m    499\u001b[0m     \u001b[39m# key does not exist in cache.\u001b[39;00m\n\u001b[0;32m--> 500\u001b[0m     \u001b[39mraise\u001b[39;00m CacheKeyNotFoundError()\n\u001b[1;32m    502\u001b[0m multi_results: MultiCacheResults \u001b[39m=\u001b[39m \u001b[39mself\u001b[39m\u001b[39m.\u001b[39m_mem_cache[key]\n",
      "\u001b[0;31mCacheKeyNotFoundError\u001b[0m: ",
      "\nDuring handling of the above exception, another exception occurred:\n",
      "\u001b[0;31mCacheKeyNotFoundError\u001b[0m                     Traceback (most recent call last)",
      "File \u001b[0;32m~/miniconda3/envs/my_account/lib/python3.10/site-packages/streamlit/runtime/caching/cache_utils.py:311\u001b[0m, in \u001b[0;36mCachedFunc._handle_cache_miss\u001b[0;34m(self, cache, value_key, func_args, func_kwargs)\u001b[0m\n\u001b[1;32m    310\u001b[0m \u001b[39mtry\u001b[39;00m:\n\u001b[0;32m--> 311\u001b[0m     cached_result \u001b[39m=\u001b[39m cache\u001b[39m.\u001b[39;49mread_result(value_key)\n\u001b[1;32m    312\u001b[0m     \u001b[39m# Another thread computed the value before us. Early exit!\u001b[39;00m\n",
      "File \u001b[0;32m~/miniconda3/envs/my_account/lib/python3.10/site-packages/streamlit/runtime/caching/cache_resource_api.py:500\u001b[0m, in \u001b[0;36mResourceCache.read_result\u001b[0;34m(self, key)\u001b[0m\n\u001b[1;32m    498\u001b[0m \u001b[39mif\u001b[39;00m key \u001b[39mnot\u001b[39;00m \u001b[39min\u001b[39;00m \u001b[39mself\u001b[39m\u001b[39m.\u001b[39m_mem_cache:\n\u001b[1;32m    499\u001b[0m     \u001b[39m# key does not exist in cache.\u001b[39;00m\n\u001b[0;32m--> 500\u001b[0m     \u001b[39mraise\u001b[39;00m CacheKeyNotFoundError()\n\u001b[1;32m    502\u001b[0m multi_results: MultiCacheResults \u001b[39m=\u001b[39m \u001b[39mself\u001b[39m\u001b[39m.\u001b[39m_mem_cache[key]\n",
      "\u001b[0;31mCacheKeyNotFoundError\u001b[0m: ",
      "\nDuring handling of the above exception, another exception occurred:\n",
      "\u001b[0;31mModuleNotFoundError\u001b[0m                       Traceback (most recent call last)",
      "File \u001b[0;32m~/miniconda3/envs/my_account/lib/python3.10/site-packages/streamlit/runtime/connection_factory.py:285\u001b[0m, in \u001b[0;36mconnection_factory\u001b[0;34m(name, type, max_entries, ttl, **kwargs)\u001b[0m\n\u001b[1;32m    284\u001b[0m \u001b[39mtry\u001b[39;00m:\n\u001b[0;32m--> 285\u001b[0m     \u001b[39mreturn\u001b[39;00m _create_connection(\n\u001b[1;32m    286\u001b[0m         name, connection_class, max_entries\u001b[39m=\u001b[39;49mmax_entries, ttl\u001b[39m=\u001b[39;49mttl, \u001b[39m*\u001b[39;49m\u001b[39m*\u001b[39;49mkwargs\n\u001b[1;32m    287\u001b[0m     )\n\u001b[1;32m    288\u001b[0m \u001b[39mexcept\u001b[39;00m \u001b[39mModuleNotFoundError\u001b[39;00m \u001b[39mas\u001b[39;00m e:\n",
      "File \u001b[0;32m~/miniconda3/envs/my_account/lib/python3.10/site-packages/streamlit/runtime/metrics_util.py:356\u001b[0m, in \u001b[0;36mgather_metrics.<locals>.wrapped_func\u001b[0;34m(*args, **kwargs)\u001b[0m\n\u001b[1;32m    355\u001b[0m \u001b[39mtry\u001b[39;00m:\n\u001b[0;32m--> 356\u001b[0m     result \u001b[39m=\u001b[39m non_optional_func(\u001b[39m*\u001b[39;49margs, \u001b[39m*\u001b[39;49m\u001b[39m*\u001b[39;49mkwargs)\n\u001b[1;32m    357\u001b[0m \u001b[39mfinally\u001b[39;00m:\n\u001b[1;32m    358\u001b[0m     \u001b[39m# Activate tracking again if command executes without any exceptions\u001b[39;00m\n",
      "File \u001b[0;32m~/miniconda3/envs/my_account/lib/python3.10/site-packages/streamlit/runtime/connection_factory.py:91\u001b[0m, in \u001b[0;36m_create_connection\u001b[0;34m(name, connection_class, max_entries, ttl, **kwargs)\u001b[0m\n\u001b[1;32m     87\u001b[0m     \u001b[39mraise\u001b[39;00m StreamlitAPIException(\n\u001b[1;32m     88\u001b[0m         \u001b[39mf\u001b[39m\u001b[39m\"\u001b[39m\u001b[39m{\u001b[39;00mconnection_class\u001b[39m}\u001b[39;00m\u001b[39m is not a subclass of ExperimentalBaseConnection!\u001b[39m\u001b[39m\"\u001b[39m\n\u001b[1;32m     89\u001b[0m     )\n\u001b[0;32m---> 91\u001b[0m \u001b[39mreturn\u001b[39;00m __create_connection(name, connection_class, \u001b[39m*\u001b[39;49m\u001b[39m*\u001b[39;49mkwargs)\n",
      "File \u001b[0;32m~/miniconda3/envs/my_account/lib/python3.10/site-packages/streamlit/runtime/caching/cache_utils.py:211\u001b[0m, in \u001b[0;36mmake_cached_func_wrapper.<locals>.wrapper\u001b[0;34m(*args, **kwargs)\u001b[0m\n\u001b[1;32m    209\u001b[0m \u001b[39m@functools\u001b[39m\u001b[39m.\u001b[39mwraps(info\u001b[39m.\u001b[39mfunc)\n\u001b[1;32m    210\u001b[0m \u001b[39mdef\u001b[39;00m \u001b[39mwrapper\u001b[39m(\u001b[39m*\u001b[39margs, \u001b[39m*\u001b[39m\u001b[39m*\u001b[39mkwargs):\n\u001b[0;32m--> 211\u001b[0m     \u001b[39mreturn\u001b[39;00m cached_func(\u001b[39m*\u001b[39;49margs, \u001b[39m*\u001b[39;49m\u001b[39m*\u001b[39;49mkwargs)\n",
      "File \u001b[0;32m~/miniconda3/envs/my_account/lib/python3.10/site-packages/streamlit/runtime/caching/cache_utils.py:240\u001b[0m, in \u001b[0;36mCachedFunc.__call__\u001b[0;34m(self, *args, **kwargs)\u001b[0m\n\u001b[1;32m    239\u001b[0m     \u001b[39mwith\u001b[39;00m spinner(message):\n\u001b[0;32m--> 240\u001b[0m         \u001b[39mreturn\u001b[39;00m \u001b[39mself\u001b[39;49m\u001b[39m.\u001b[39;49m_get_or_create_cached_value(args, kwargs)\n\u001b[1;32m    241\u001b[0m \u001b[39melse\u001b[39;00m:\n",
      "File \u001b[0;32m~/miniconda3/envs/my_account/lib/python3.10/site-packages/streamlit/runtime/caching/cache_utils.py:266\u001b[0m, in \u001b[0;36mCachedFunc._get_or_create_cached_value\u001b[0;34m(self, func_args, func_kwargs)\u001b[0m\n\u001b[1;32m    265\u001b[0m \u001b[39mexcept\u001b[39;00m CacheKeyNotFoundError:\n\u001b[0;32m--> 266\u001b[0m     \u001b[39mreturn\u001b[39;00m \u001b[39mself\u001b[39;49m\u001b[39m.\u001b[39;49m_handle_cache_miss(cache, value_key, func_args, func_kwargs)\n",
      "File \u001b[0;32m~/miniconda3/envs/my_account/lib/python3.10/site-packages/streamlit/runtime/caching/cache_utils.py:320\u001b[0m, in \u001b[0;36mCachedFunc._handle_cache_miss\u001b[0;34m(self, cache, value_key, func_args, func_kwargs)\u001b[0m\n\u001b[1;32m    317\u001b[0m \u001b[39mwith\u001b[39;00m \u001b[39mself\u001b[39m\u001b[39m.\u001b[39m_info\u001b[39m.\u001b[39mcached_message_replay_ctx\u001b[39m.\u001b[39mcalling_cached_function(\n\u001b[1;32m    318\u001b[0m     \u001b[39mself\u001b[39m\u001b[39m.\u001b[39m_info\u001b[39m.\u001b[39mfunc, \u001b[39mself\u001b[39m\u001b[39m.\u001b[39m_info\u001b[39m.\u001b[39mallow_widgets\n\u001b[1;32m    319\u001b[0m ):\n\u001b[0;32m--> 320\u001b[0m     computed_value \u001b[39m=\u001b[39m \u001b[39mself\u001b[39;49m\u001b[39m.\u001b[39;49m_info\u001b[39m.\u001b[39;49mfunc(\u001b[39m*\u001b[39;49mfunc_args, \u001b[39m*\u001b[39;49m\u001b[39m*\u001b[39;49mfunc_kwargs)\n\u001b[1;32m    322\u001b[0m \u001b[39m# We've computed our value, and now we need to write it back to the cache\u001b[39;00m\n\u001b[1;32m    323\u001b[0m \u001b[39m# along with any \"replay messages\" that were generated during value computation.\u001b[39;00m\n",
      "File \u001b[0;32m~/miniconda3/envs/my_account/lib/python3.10/site-packages/streamlit/runtime/connection_factory.py:84\u001b[0m, in \u001b[0;36m_create_connection.<locals>.__create_connection\u001b[0;34m(name, connection_class, **kwargs)\u001b[0m\n\u001b[1;32m     76\u001b[0m \u001b[39m@cache_resource\u001b[39m(\n\u001b[1;32m     77\u001b[0m     max_entries\u001b[39m=\u001b[39mmax_entries,\n\u001b[1;32m     78\u001b[0m     show_spinner\u001b[39m=\u001b[39m\u001b[39m\"\u001b[39m\u001b[39mRunning `st.experimental_connection(...)`.\u001b[39m\u001b[39m\"\u001b[39m,\n\u001b[0;32m   (...)\u001b[0m\n\u001b[1;32m     82\u001b[0m     name: \u001b[39mstr\u001b[39m, connection_class: Type[ConnectionClass], \u001b[39m*\u001b[39m\u001b[39m*\u001b[39mkwargs\n\u001b[1;32m     83\u001b[0m ) \u001b[39m-\u001b[39m\u001b[39m>\u001b[39m ConnectionClass:\n\u001b[0;32m---> 84\u001b[0m     \u001b[39mreturn\u001b[39;00m connection_class(connection_name\u001b[39m=\u001b[39;49mname, \u001b[39m*\u001b[39;49m\u001b[39m*\u001b[39;49mkwargs)\n",
      "File \u001b[0;32m~/miniconda3/envs/my_account/lib/python3.10/site-packages/streamlit/connections/base_connection.py:71\u001b[0m, in \u001b[0;36mExperimentalBaseConnection.__init__\u001b[0;34m(self, connection_name, **kwargs)\u001b[0m\n\u001b[1;32m     69\u001b[0m secrets_singleton\u001b[39m.\u001b[39mfile_change_listener\u001b[39m.\u001b[39mconnect(\u001b[39mself\u001b[39m\u001b[39m.\u001b[39m_on_secrets_changed)\n\u001b[0;32m---> 71\u001b[0m \u001b[39mself\u001b[39m\u001b[39m.\u001b[39m_raw_instance: Optional[RawConnectionT] \u001b[39m=\u001b[39m \u001b[39mself\u001b[39;49m\u001b[39m.\u001b[39;49m_connect(\u001b[39m*\u001b[39;49m\u001b[39m*\u001b[39;49mkwargs)\n",
      "File \u001b[0;32m~/miniconda3/envs/my_account/lib/python3.10/site-packages/streamlit/connections/sql_connection.py:79\u001b[0m, in \u001b[0;36mSQLConnection._connect\u001b[0;34m(self, autocommit, **kwargs)\u001b[0m\n\u001b[1;32m     78\u001b[0m \u001b[39mdef\u001b[39;00m \u001b[39m_connect\u001b[39m(\u001b[39mself\u001b[39m, autocommit: \u001b[39mbool\u001b[39m \u001b[39m=\u001b[39m \u001b[39mFalse\u001b[39;00m, \u001b[39m*\u001b[39m\u001b[39m*\u001b[39mkwargs) \u001b[39m-\u001b[39m\u001b[39m>\u001b[39m \u001b[39m\"\u001b[39m\u001b[39mEngine\u001b[39m\u001b[39m\"\u001b[39m:\n\u001b[0;32m---> 79\u001b[0m     \u001b[39mimport\u001b[39;00m \u001b[39msqlalchemy\u001b[39;00m\n\u001b[1;32m     81\u001b[0m     kwargs \u001b[39m=\u001b[39m deepcopy(kwargs)\n",
      "\u001b[0;31mModuleNotFoundError\u001b[0m: No module named 'sqlalchemy'",
      "\nDuring handling of the above exception, another exception occurred:\n",
      "\u001b[0;31mModuleNotFoundError\u001b[0m                       Traceback (most recent call last)",
      "Cell \u001b[0;32mIn[3], line 3\u001b[0m\n\u001b[1;32m      1\u001b[0m \u001b[39mimport\u001b[39;00m \u001b[39mstreamlit\u001b[39;00m \u001b[39mas\u001b[39;00m \u001b[39mst\u001b[39;00m\n\u001b[0;32m----> 3\u001b[0m conn \u001b[39m=\u001b[39m st\u001b[39m.\u001b[39;49mexperimental_connection(\u001b[39m'\u001b[39;49m\u001b[39mmy_account_testing\u001b[39;49m\u001b[39m'\u001b[39;49m, \u001b[39mtype\u001b[39;49m\u001b[39m=\u001b[39;49m\u001b[39m'\u001b[39;49m\u001b[39msql\u001b[39;49m\u001b[39m'\u001b[39;49m)\n",
      "File \u001b[0;32m~/miniconda3/envs/my_account/lib/python3.10/site-packages/streamlit/runtime/connection_factory.py:298\u001b[0m, in \u001b[0;36mconnection_factory\u001b[0;34m(name, type, max_entries, ttl, **kwargs)\u001b[0m\n\u001b[1;32m    295\u001b[0m     \u001b[39mif\u001b[39;00m pypi_package:\n\u001b[1;32m    296\u001b[0m         extra_info \u001b[39m=\u001b[39m \u001b[39mf\u001b[39m\u001b[39m\"\u001b[39m\u001b[39mYou need to install the \u001b[39m\u001b[39m'\u001b[39m\u001b[39m{\u001b[39;00mpypi_package\u001b[39m}\u001b[39;00m\u001b[39m'\u001b[39m\u001b[39m package to use this connection.\u001b[39m\u001b[39m\"\u001b[39m\n\u001b[0;32m--> 298\u001b[0m \u001b[39mraise\u001b[39;00m \u001b[39mModuleNotFoundError\u001b[39;00m(\u001b[39mf\u001b[39m\u001b[39m\"\u001b[39m\u001b[39m{\u001b[39;00m\u001b[39mstr\u001b[39m(e)\u001b[39m}\u001b[39;00m\u001b[39m. \u001b[39m\u001b[39m{\u001b[39;00mextra_info\u001b[39m}\u001b[39;00m\u001b[39m\"\u001b[39m)\n",
      "\u001b[0;31mModuleNotFoundError\u001b[0m: No module named 'sqlalchemy'. You need to install the 'sqlalchemy' package to use this connection."
     ]
    }
   ],
   "source": [
    "import streamlit as st\n",
    "\n",
    "conn = st.experimental_connection('my_account_testing', type='sql')"
   ]
  },
  {
   "cell_type": "code",
   "execution_count": 13,
   "metadata": {},
   "outputs": [],
   "source": [
    "table_name = 'expenses'\n",
    "# Fetch column names from the database table\n",
    "CURSOR.execute(f\"PRAGMA table_info(expenses)\")\n",
    "column_data = CURSOR.fetchall()\n",
    "column_names = {col[0]: col[1] for col in column_data}\n"
   ]
  },
  {
   "cell_type": "code",
   "execution_count": 26,
   "metadata": {},
   "outputs": [],
   "source": [
    "# Fetch all expenses from the database\n",
    "CURSOR.execute(f\"SELECT * FROM {table_name}\")\n",
    "table_data = CURSOR.fetchall()\n",
    "\n",
    "df1 = pd.DataFrame(table_data)"
   ]
  },
  {
   "cell_type": "code",
   "execution_count": 27,
   "metadata": {},
   "outputs": [],
   "source": [
    "df2 = df1.copy()\n",
    "df2.iloc[1] = (2,3,2,3,3,4)"
   ]
  },
  {
   "cell_type": "code",
   "execution_count": 35,
   "metadata": {},
   "outputs": [
    {
     "data": {
      "text/plain": [
       "array([1])"
      ]
     },
     "execution_count": 35,
     "metadata": {},
     "output_type": "execute_result"
    }
   ],
   "source": [
    "df1.compare(df2, align_axis = 0).reset_index().level_0.unique()"
   ]
  },
  {
   "cell_type": "code",
   "execution_count": 33,
   "metadata": {},
   "outputs": [
    {
     "data": {
      "text/html": [
       "<div>\n",
       "<style scoped>\n",
       "    .dataframe tbody tr th:only-of-type {\n",
       "        vertical-align: middle;\n",
       "    }\n",
       "\n",
       "    .dataframe tbody tr th {\n",
       "        vertical-align: top;\n",
       "    }\n",
       "\n",
       "    .dataframe thead th {\n",
       "        text-align: right;\n",
       "    }\n",
       "</style>\n",
       "<table border=\"1\" class=\"dataframe\">\n",
       "  <thead>\n",
       "    <tr style=\"text-align: right;\">\n",
       "      <th></th>\n",
       "      <th></th>\n",
       "      <th>1</th>\n",
       "      <th>2</th>\n",
       "      <th>3</th>\n",
       "      <th>4</th>\n",
       "      <th>5</th>\n",
       "    </tr>\n",
       "  </thead>\n",
       "  <tbody>\n",
       "    <tr>\n",
       "      <th rowspan=\"2\" valign=\"top\">1</th>\n",
       "      <th>self</th>\n",
       "      <td>2023-08-12</td>\n",
       "      <td>Disque dur toshiba</td>\n",
       "      <td>Achats</td>\n",
       "      <td>électronique</td>\n",
       "      <td>69.99</td>\n",
       "    </tr>\n",
       "    <tr>\n",
       "      <th>other</th>\n",
       "      <td>3</td>\n",
       "      <td>2</td>\n",
       "      <td>3</td>\n",
       "      <td>3</td>\n",
       "      <td>4.00</td>\n",
       "    </tr>\n",
       "  </tbody>\n",
       "</table>\n",
       "</div>"
      ],
      "text/plain": [
       "                  1                   2       3             4      5\n",
       "1 self   2023-08-12  Disque dur toshiba  Achats  électronique  69.99\n",
       "  other           3                   2       3             3   4.00"
      ]
     },
     "execution_count": 33,
     "metadata": {},
     "output_type": "execute_result"
    }
   ],
   "source": [
    "df1.compare(df2, align_axis=0, keep_shape=False, keep_equal=False, result_names=('self', 'other'))\n",
    "\n"
   ]
  },
  {
   "cell_type": "code",
   "execution_count": 18,
   "metadata": {},
   "outputs": [],
   "source": [
    "d = {1: 'a', 2:'z'}"
   ]
  },
  {
   "cell_type": "code",
   "execution_count": 20,
   "metadata": {},
   "outputs": [
    {
     "data": {
      "text/plain": [
       "(1, 2)"
      ]
     },
     "execution_count": 20,
     "metadata": {},
     "output_type": "execute_result"
    }
   ],
   "source": [
    "tuple([1,2])"
   ]
  },
  {
   "cell_type": "code",
   "execution_count": 17,
   "metadata": {},
   "outputs": [
    {
     "data": {
      "text/plain": [
       "['a', 'b']"
      ]
     },
     "execution_count": 17,
     "metadata": {},
     "output_type": "execute_result"
    }
   ],
   "source": [
    "[col for col in ['a', 'b', 'id'] if col != 'id']"
   ]
  },
  {
   "cell_type": "code",
   "execution_count": 16,
   "metadata": {},
   "outputs": [
    {
     "data": {
      "text/html": [
       "<div>\n",
       "<style scoped>\n",
       "    .dataframe tbody tr th:only-of-type {\n",
       "        vertical-align: middle;\n",
       "    }\n",
       "\n",
       "    .dataframe tbody tr th {\n",
       "        vertical-align: top;\n",
       "    }\n",
       "\n",
       "    .dataframe thead th {\n",
       "        text-align: right;\n",
       "    }\n",
       "</style>\n",
       "<table border=\"1\" class=\"dataframe\">\n",
       "  <thead>\n",
       "    <tr style=\"text-align: right;\">\n",
       "      <th></th>\n",
       "      <th>id</th>\n",
       "      <th>date</th>\n",
       "      <th>description</th>\n",
       "      <th>category</th>\n",
       "      <th>sub_category</th>\n",
       "      <th>amount</th>\n",
       "    </tr>\n",
       "  </thead>\n",
       "  <tbody>\n",
       "    <tr>\n",
       "      <th>0</th>\n",
       "      <td>1</td>\n",
       "      <td>2023-08-12</td>\n",
       "      <td>Camping séminaires Descartes</td>\n",
       "      <td>Vacances</td>\n",
       "      <td>logement</td>\n",
       "      <td>97.00</td>\n",
       "    </tr>\n",
       "    <tr>\n",
       "      <th>1</th>\n",
       "      <td>2</td>\n",
       "      <td>2023-08-12</td>\n",
       "      <td>Disque dur toshiba</td>\n",
       "      <td>Achats</td>\n",
       "      <td>électronique</td>\n",
       "      <td>69.99</td>\n",
       "    </tr>\n",
       "    <tr>\n",
       "      <th>2</th>\n",
       "      <td>3</td>\n",
       "      <td>2023-08-11</td>\n",
       "      <td>inconnu</td>\n",
       "      <td>Autres</td>\n",
       "      <td>inconnu</td>\n",
       "      <td>1.50</td>\n",
       "    </tr>\n",
       "    <tr>\n",
       "      <th>3</th>\n",
       "      <td>4</td>\n",
       "      <td>2023-08-08</td>\n",
       "      <td>bar descartes</td>\n",
       "      <td>Les pêchés du soir</td>\n",
       "      <td>bar</td>\n",
       "      <td>18.00</td>\n",
       "    </tr>\n",
       "    <tr>\n",
       "      <th>4</th>\n",
       "      <td>5</td>\n",
       "      <td>2023-08-08</td>\n",
       "      <td>tabac</td>\n",
       "      <td>Les pêchés du soir</td>\n",
       "      <td>tabac</td>\n",
       "      <td>20.10</td>\n",
       "    </tr>\n",
       "    <tr>\n",
       "      <th>5</th>\n",
       "      <td>6</td>\n",
       "      <td>2023-08-07</td>\n",
       "      <td>chaussures</td>\n",
       "      <td>Achats</td>\n",
       "      <td>vêtement</td>\n",
       "      <td>10.00</td>\n",
       "    </tr>\n",
       "    <tr>\n",
       "      <th>6</th>\n",
       "      <td>7</td>\n",
       "      <td>2023-08-07</td>\n",
       "      <td>franprix courses</td>\n",
       "      <td>Alimentation</td>\n",
       "      <td>Courses</td>\n",
       "      <td>16.03</td>\n",
       "    </tr>\n",
       "    <tr>\n",
       "      <th>7</th>\n",
       "      <td>8</td>\n",
       "      <td>2023-08-07</td>\n",
       "      <td>clope electro</td>\n",
       "      <td>Achats</td>\n",
       "      <td>CE</td>\n",
       "      <td>17.80</td>\n",
       "    </tr>\n",
       "    <tr>\n",
       "      <th>8</th>\n",
       "      <td>9</td>\n",
       "      <td>2023-08-07</td>\n",
       "      <td>Kebab falafel</td>\n",
       "      <td>Les pêchés du soir</td>\n",
       "      <td>Kebab</td>\n",
       "      <td>17.00</td>\n",
       "    </tr>\n",
       "    <tr>\n",
       "      <th>9</th>\n",
       "      <td>10</td>\n",
       "      <td>2023-08-03</td>\n",
       "      <td>coupe vent rouge</td>\n",
       "      <td>Achats</td>\n",
       "      <td>vêtement</td>\n",
       "      <td>8.83</td>\n",
       "    </tr>\n",
       "    <tr>\n",
       "      <th>10</th>\n",
       "      <td>11</td>\n",
       "      <td>2023-08-03</td>\n",
       "      <td>loyer aout</td>\n",
       "      <td>Logement</td>\n",
       "      <td>Loyer</td>\n",
       "      <td>690.00</td>\n",
       "    </tr>\n",
       "    <tr>\n",
       "      <th>11</th>\n",
       "      <td>12</td>\n",
       "      <td>2023-08-02</td>\n",
       "      <td>courses</td>\n",
       "      <td>Alimentation</td>\n",
       "      <td>Courses</td>\n",
       "      <td>7.50</td>\n",
       "    </tr>\n",
       "    <tr>\n",
       "      <th>12</th>\n",
       "      <td>13</td>\n",
       "      <td>2023-08-02</td>\n",
       "      <td>Bouillon avec sacha (me doit 30 balles mdr)</td>\n",
       "      <td>Les pêchés du soir</td>\n",
       "      <td>restaurants</td>\n",
       "      <td>60.00</td>\n",
       "    </tr>\n",
       "    <tr>\n",
       "      <th>13</th>\n",
       "      <td>15</td>\n",
       "      <td>2023-07-31</td>\n",
       "      <td>retraits</td>\n",
       "      <td>Autres</td>\n",
       "      <td>retraits</td>\n",
       "      <td>10.00</td>\n",
       "    </tr>\n",
       "    <tr>\n",
       "      <th>14</th>\n",
       "      <td>16</td>\n",
       "      <td>2023-07-31</td>\n",
       "      <td>Antarius</td>\n",
       "      <td>Autres</td>\n",
       "      <td>Antarius</td>\n",
       "      <td>300.00</td>\n",
       "    </tr>\n",
       "    <tr>\n",
       "      <th>15</th>\n",
       "      <td>17</td>\n",
       "      <td>2023-07-31</td>\n",
       "      <td>retraits</td>\n",
       "      <td>Autres</td>\n",
       "      <td>retraits</td>\n",
       "      <td>30.00</td>\n",
       "    </tr>\n",
       "    <tr>\n",
       "      <th>16</th>\n",
       "      <td>18</td>\n",
       "      <td>2023-07-31</td>\n",
       "      <td>kebab</td>\n",
       "      <td>Les pêchés du soir</td>\n",
       "      <td>Kebab</td>\n",
       "      <td>8.50</td>\n",
       "    </tr>\n",
       "    <tr>\n",
       "      <th>17</th>\n",
       "      <td>19</td>\n",
       "      <td>2023-07-31</td>\n",
       "      <td>deauville croissants</td>\n",
       "      <td>Vacances</td>\n",
       "      <td>autres</td>\n",
       "      <td>7.30</td>\n",
       "    </tr>\n",
       "    <tr>\n",
       "      <th>18</th>\n",
       "      <td>20</td>\n",
       "      <td>2023-07-31</td>\n",
       "      <td>deauville autre</td>\n",
       "      <td>Vacances</td>\n",
       "      <td>autres</td>\n",
       "      <td>14.00</td>\n",
       "    </tr>\n",
       "    <tr>\n",
       "      <th>19</th>\n",
       "      <td>21</td>\n",
       "      <td>2023-07-31</td>\n",
       "      <td>deauville minigolf</td>\n",
       "      <td>Vacances</td>\n",
       "      <td>activités</td>\n",
       "      <td>40.00</td>\n",
       "    </tr>\n",
       "    <tr>\n",
       "      <th>20</th>\n",
       "      <td>22</td>\n",
       "      <td>2023-07-28</td>\n",
       "      <td>carte commune</td>\n",
       "      <td>Alimentation</td>\n",
       "      <td>virement compte commun</td>\n",
       "      <td>200.00</td>\n",
       "    </tr>\n",
       "    <tr>\n",
       "      <th>21</th>\n",
       "      <td>23</td>\n",
       "      <td>2023-07-28</td>\n",
       "      <td>resto indien</td>\n",
       "      <td>Les pêchés du soir</td>\n",
       "      <td>restaurants</td>\n",
       "      <td>25.75</td>\n",
       "    </tr>\n",
       "  </tbody>\n",
       "</table>\n",
       "</div>"
      ],
      "text/plain": [
       "    id        date                                  description  \\\n",
       "0    1  2023-08-12                 Camping séminaires Descartes   \n",
       "1    2  2023-08-12                           Disque dur toshiba   \n",
       "2    3  2023-08-11                                      inconnu   \n",
       "3    4  2023-08-08                                bar descartes   \n",
       "4    5  2023-08-08                                       tabac    \n",
       "5    6  2023-08-07                                   chaussures   \n",
       "6    7  2023-08-07                             franprix courses   \n",
       "7    8  2023-08-07                                clope electro   \n",
       "8    9  2023-08-07                                Kebab falafel   \n",
       "9   10  2023-08-03                             coupe vent rouge   \n",
       "10  11  2023-08-03                                   loyer aout   \n",
       "11  12  2023-08-02                                      courses   \n",
       "12  13  2023-08-02  Bouillon avec sacha (me doit 30 balles mdr)   \n",
       "13  15  2023-07-31                                     retraits   \n",
       "14  16  2023-07-31                                     Antarius   \n",
       "15  17  2023-07-31                                     retraits   \n",
       "16  18  2023-07-31                                        kebab   \n",
       "17  19  2023-07-31                         deauville croissants   \n",
       "18  20  2023-07-31                              deauville autre   \n",
       "19  21  2023-07-31                           deauville minigolf   \n",
       "20  22  2023-07-28                                carte commune   \n",
       "21  23  2023-07-28                                 resto indien   \n",
       "\n",
       "              category            sub_category  amount  \n",
       "0             Vacances                logement   97.00  \n",
       "1               Achats            électronique   69.99  \n",
       "2               Autres                 inconnu    1.50  \n",
       "3   Les pêchés du soir                     bar   18.00  \n",
       "4   Les pêchés du soir                   tabac   20.10  \n",
       "5               Achats                vêtement   10.00  \n",
       "6         Alimentation                 Courses   16.03  \n",
       "7               Achats                      CE   17.80  \n",
       "8   Les pêchés du soir                   Kebab   17.00  \n",
       "9               Achats                vêtement    8.83  \n",
       "10            Logement                   Loyer  690.00  \n",
       "11        Alimentation                 Courses    7.50  \n",
       "12  Les pêchés du soir             restaurants   60.00  \n",
       "13              Autres                retraits   10.00  \n",
       "14              Autres                Antarius  300.00  \n",
       "15              Autres                retraits   30.00  \n",
       "16  Les pêchés du soir                   Kebab    8.50  \n",
       "17            Vacances                  autres    7.30  \n",
       "18            Vacances                  autres   14.00  \n",
       "19            Vacances               activités   40.00  \n",
       "20        Alimentation  virement compte commun  200.00  \n",
       "21  Les pêchés du soir             restaurants   25.75  "
      ]
     },
     "execution_count": 16,
     "metadata": {},
     "output_type": "execute_result"
    }
   ],
   "source": [
    "pd.DataFrame(table_data, columns=column_names.values())"
   ]
  },
  {
   "cell_type": "code",
   "execution_count": 37,
   "metadata": {},
   "outputs": [],
   "source": [
    "CONN.close()"
   ]
  },
  {
   "cell_type": "code",
   "execution_count": 26,
   "metadata": {},
   "outputs": [],
   "source": [
    "with open(DATA_PATH / 'categories.json', 'r') as json_file:\n",
    "    data = json.load(json_file)"
   ]
  },
  {
   "cell_type": "code",
   "execution_count": 27,
   "metadata": {},
   "outputs": [
    {
     "data": {
      "text/plain": [
       "<sqlite3.Cursor at 0x7fed5087c340>"
      ]
     },
     "execution_count": 27,
     "metadata": {},
     "output_type": "execute_result"
    }
   ],
   "source": [
    "# Create the users table if it doesn't exist\n",
    "CURSOR.execute('''\n",
    "    CREATE TABLE IF NOT EXISTS expenses (\n",
    "    id INTEGER PRIMARY KEY,\n",
    "    date DATE,\n",
    "    description TEXT,\n",
    "    category TEXT,\n",
    "    sub_category TEXT,\n",
    "    amount REAL\n",
    ");\n",
    "''')"
   ]
  },
  {
   "cell_type": "code",
   "execution_count": 28,
   "metadata": {},
   "outputs": [
    {
     "data": {
      "text/plain": [
       "<sqlite3.Cursor at 0x7fed5087c340>"
      ]
     },
     "execution_count": 28,
     "metadata": {},
     "output_type": "execute_result"
    }
   ],
   "source": [
    "CURSOR.execute('''\n",
    "    CREATE TABLE IF NOT EXISTS recettes (\n",
    "    id INTEGER PRIMARY KEY,\n",
    "    date DATE,\n",
    "    description TEXT,\n",
    "    category TEXT,\n",
    "    amount REAL\n",
    ");\n",
    "''')"
   ]
  },
  {
   "cell_type": "code",
   "execution_count": 31,
   "metadata": {},
   "outputs": [
    {
     "data": {
      "text/plain": [
       "<sqlite3.Cursor at 0x7fed5087c340>"
      ]
     },
     "execution_count": 31,
     "metadata": {},
     "output_type": "execute_result"
    }
   ],
   "source": [
    "# Form inputs\n",
    "spending_date =  date.today()\n",
    "description = \"test\"\n",
    "category = \"test\"\n",
    "sub_cat = \"test\"\n",
    "amount = 74\n",
    "\n",
    "CURSOR.execute(\"INSERT INTO expenses (date, description, category, sub_category, amount) VALUES (?, ?, ?, ?, ?)\",\n",
    "            (spending_date, description, category, sub_cat, amount))"
   ]
  },
  {
   "cell_type": "code",
   "execution_count": 33,
   "metadata": {},
   "outputs": [
    {
     "name": "stdout",
     "output_type": "stream",
     "text": [
      "(1, '2023-08-15', 'test', 'test', 'test', 74.0)\n"
     ]
    }
   ],
   "source": [
    "# Fetch all expenses from the database\n",
    "CURSOR.execute(\"SELECT * FROM expenses\")\n",
    "expenses = CURSOR.fetchall()\n",
    "\n",
    "# Print the fetched expenses\n",
    "for expense in expenses:\n",
    "    print(expense)"
   ]
  },
  {
   "cell_type": "code",
   "execution_count": 35,
   "metadata": {},
   "outputs": [],
   "source": [
    "CURSOR.close(\n",
    ")"
   ]
  },
  {
   "cell_type": "code",
   "execution_count": 36,
   "metadata": {},
   "outputs": [
    {
     "data": {
      "text/plain": [
       "<sqlite3.Cursor at 0x7fed5087c340>"
      ]
     },
     "execution_count": 36,
     "metadata": {},
     "output_type": "execute_result"
    }
   ],
   "source": [
    "CURSOR"
   ]
  },
  {
   "cell_type": "code",
   "execution_count": null,
   "metadata": {},
   "outputs": [],
   "source": []
  }
 ],
 "metadata": {
  "kernelspec": {
   "display_name": "Python 3.10.12 ('my_account')",
   "language": "python",
   "name": "python3"
  },
  "language_info": {
   "codemirror_mode": {
    "name": "ipython",
    "version": 3
   },
   "file_extension": ".py",
   "mimetype": "text/x-python",
   "name": "python",
   "nbconvert_exporter": "python",
   "pygments_lexer": "ipython3",
   "version": "3.10.12"
  },
  "orig_nbformat": 4,
  "vscode": {
   "interpreter": {
    "hash": "fb43f5127a4f3020eb6e5e26c81723d8414011d01a62c58f1ef69b42dd1fe726"
   }
  }
 },
 "nbformat": 4,
 "nbformat_minor": 2
}
