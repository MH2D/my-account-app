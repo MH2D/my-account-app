{
 "cells": [
  {
   "cell_type": "code",
   "execution_count": 9,
   "metadata": {},
   "outputs": [],
   "source": [
    "import sqlite3\n",
    "import json\n",
    "from pathlib import Path\n",
    "from datetime import date\n",
    "import datetime as dt\n",
    "import pandas as pd\n",
    "from utils.global_utils import *\n",
    "DATA_PATH = Path('data')\n",
    "CONN = sqlite3.connect(DATA_PATH / 'account_management.db')\n",
    "CURSOR = CONN.cursor()"
   ]
  },
  {
   "cell_type": "code",
   "execution_count": 18,
   "metadata": {},
   "outputs": [
    {
     "data": {
      "text/plain": [
       "datetime.date(2023, 9, 1)"
      ]
     },
     "execution_count": 18,
     "metadata": {},
     "output_type": "execute_result"
    }
   ],
   "source": [
    "date.today()"
   ]
  },
  {
   "cell_type": "code",
   "execution_count": 4,
   "metadata": {},
   "outputs": [],
   "source": [
    "# Fetch all expenses from the database\n",
    "CURSOR.execute(f\"SELECT * FROM expenses\")\n",
    "table_data = CURSOR.fetchall()\n",
    "\n",
    "df1 = pd.DataFrame(table_data)"
   ]
  },
  {
   "cell_type": "code",
   "execution_count": 13,
   "metadata": {},
   "outputs": [],
   "source": [
    "expenses_df = get_df_from_table(CONN, CURSOR, 'expenses')\n",
    "recettes_df = get_df_from_table(CONN, CURSOR, 'recettes')"
   ]
  },
  {
   "cell_type": "code",
   "execution_count": 16,
   "metadata": {},
   "outputs": [
    {
     "data": {
      "text/html": [
       "<div>\n",
       "<style scoped>\n",
       "    .dataframe tbody tr th:only-of-type {\n",
       "        vertical-align: middle;\n",
       "    }\n",
       "\n",
       "    .dataframe tbody tr th {\n",
       "        vertical-align: top;\n",
       "    }\n",
       "\n",
       "    .dataframe thead th {\n",
       "        text-align: right;\n",
       "    }\n",
       "</style>\n",
       "<table border=\"1\" class=\"dataframe\">\n",
       "  <thead>\n",
       "    <tr style=\"text-align: right;\">\n",
       "      <th></th>\n",
       "      <th>id</th>\n",
       "      <th>date</th>\n",
       "      <th>description</th>\n",
       "      <th>category</th>\n",
       "      <th>sub_category</th>\n",
       "      <th>amount</th>\n",
       "    </tr>\n",
       "  </thead>\n",
       "  <tbody>\n",
       "    <tr>\n",
       "      <th>135</th>\n",
       "      <td>142</td>\n",
       "      <td>2023-06-05</td>\n",
       "      <td>habits guerissol</td>\n",
       "      <td>Achats</td>\n",
       "      <td>vêtement</td>\n",
       "      <td>17.0</td>\n",
       "    </tr>\n",
       "    <tr>\n",
       "      <th>136</th>\n",
       "      <td>143</td>\n",
       "      <td>2023-06-05</td>\n",
       "      <td>baguettes</td>\n",
       "      <td>Alimentation</td>\n",
       "      <td>Courses</td>\n",
       "      <td>1.1</td>\n",
       "    </tr>\n",
       "    <tr>\n",
       "      <th>134</th>\n",
       "      <td>141</td>\n",
       "      <td>2023-06-05</td>\n",
       "      <td>courses</td>\n",
       "      <td>Alimentation</td>\n",
       "      <td>Courses</td>\n",
       "      <td>22.0</td>\n",
       "    </tr>\n",
       "    <tr>\n",
       "      <th>139</th>\n",
       "      <td>146</td>\n",
       "      <td>2023-06-05</td>\n",
       "      <td>bières tancrède</td>\n",
       "      <td>Les pêchés du soir</td>\n",
       "      <td>bar</td>\n",
       "      <td>13.0</td>\n",
       "    </tr>\n",
       "    <tr>\n",
       "      <th>133</th>\n",
       "      <td>140</td>\n",
       "      <td>2023-06-05</td>\n",
       "      <td>loyer Juin</td>\n",
       "      <td>Logement</td>\n",
       "      <td>Loyer</td>\n",
       "      <td>690.0</td>\n",
       "    </tr>\n",
       "    <tr>\n",
       "      <th>...</th>\n",
       "      <td>...</td>\n",
       "      <td>...</td>\n",
       "      <td>...</td>\n",
       "      <td>...</td>\n",
       "      <td>...</td>\n",
       "      <td>...</td>\n",
       "    </tr>\n",
       "    <tr>\n",
       "      <th>154</th>\n",
       "      <td>161</td>\n",
       "      <td>2023-08-21</td>\n",
       "      <td>kdo Antoine</td>\n",
       "      <td>Achats</td>\n",
       "      <td>cadeaux</td>\n",
       "      <td>5.2</td>\n",
       "    </tr>\n",
       "    <tr>\n",
       "      <th>157</th>\n",
       "      <td>164</td>\n",
       "      <td>2023-08-22</td>\n",
       "      <td>ticket festival rennes</td>\n",
       "      <td>Entretien personnel</td>\n",
       "      <td>culture</td>\n",
       "      <td>49.9</td>\n",
       "    </tr>\n",
       "    <tr>\n",
       "      <th>155</th>\n",
       "      <td>162</td>\n",
       "      <td>2023-08-22</td>\n",
       "      <td>courses nems etc</td>\n",
       "      <td>Alimentation</td>\n",
       "      <td>Courses</td>\n",
       "      <td>19.0</td>\n",
       "    </tr>\n",
       "    <tr>\n",
       "      <th>156</th>\n",
       "      <td>163</td>\n",
       "      <td>2023-08-22</td>\n",
       "      <td>investissements aout</td>\n",
       "      <td>Épargne</td>\n",
       "      <td>investissement</td>\n",
       "      <td>50.0</td>\n",
       "    </tr>\n",
       "    <tr>\n",
       "      <th>158</th>\n",
       "      <td>165</td>\n",
       "      <td>2023-08-22</td>\n",
       "      <td>marlusse et lapin tournée</td>\n",
       "      <td>Les pêchés du soir</td>\n",
       "      <td>bar</td>\n",
       "      <td>28.0</td>\n",
       "    </tr>\n",
       "  </tbody>\n",
       "</table>\n",
       "<p>159 rows × 6 columns</p>\n",
       "</div>"
      ],
      "text/plain": [
       "      id       date                description             category  \\\n",
       "135  142 2023-06-05           habits guerissol               Achats   \n",
       "136  143 2023-06-05                  baguettes         Alimentation   \n",
       "134  141 2023-06-05                    courses         Alimentation   \n",
       "139  146 2023-06-05            bières tancrède   Les pêchés du soir   \n",
       "133  140 2023-06-05                 loyer Juin             Logement   \n",
       "..   ...        ...                        ...                  ...   \n",
       "154  161 2023-08-21                kdo Antoine               Achats   \n",
       "157  164 2023-08-22     ticket festival rennes  Entretien personnel   \n",
       "155  162 2023-08-22           courses nems etc         Alimentation   \n",
       "156  163 2023-08-22       investissements aout              Épargne   \n",
       "158  165 2023-08-22  marlusse et lapin tournée   Les pêchés du soir   \n",
       "\n",
       "       sub_category  amount  \n",
       "135        vêtement    17.0  \n",
       "136         Courses     1.1  \n",
       "134         Courses    22.0  \n",
       "139             bar    13.0  \n",
       "133           Loyer   690.0  \n",
       "..              ...     ...  \n",
       "154         cadeaux     5.2  \n",
       "157         culture    49.9  \n",
       "155         Courses    19.0  \n",
       "156  investissement    50.0  \n",
       "158             bar    28.0  \n",
       "\n",
       "[159 rows x 6 columns]"
      ]
     },
     "execution_count": 16,
     "metadata": {},
     "output_type": "execute_result"
    }
   ],
   "source": [
    "expenses_df"
   ]
  },
  {
   "cell_type": "code",
   "execution_count": 15,
   "metadata": {},
   "outputs": [],
   "source": [
    "# expenses_df.to_csv('data/ugo_expenses.csv', index=False)\n",
    "# recettes_df.to_csv('data/ugo_recettes.csv', index=False)"
   ]
  },
  {
   "cell_type": "code",
   "execution_count": 19,
   "metadata": {},
   "outputs": [],
   "source": [
    "# Form inputs for adding a new expense\n",
    "the_id = expenses_df.id.max() + 1 \n",
    "spending_date = \"09-12-1999\"\n",
    "description = \"test csv\"\n",
    "\n",
    "selected_catego = \"catego_test\"\n",
    "\n",
    "sub_category = \"sub catego test\"\n",
    "amount = 39\n",
    "\n",
    "add_row = [the_id, spending_date, description, selected_catego, sub_category, amount]"
   ]
  },
  {
   "cell_type": "code",
   "execution_count": 23,
   "metadata": {},
   "outputs": [],
   "source": [
    "expenses_df.loc[len(expenses_df)] = add_row"
   ]
  },
  {
   "cell_type": "code",
   "execution_count": 24,
   "metadata": {},
   "outputs": [
    {
     "data": {
      "text/html": [
       "<div>\n",
       "<style scoped>\n",
       "    .dataframe tbody tr th:only-of-type {\n",
       "        vertical-align: middle;\n",
       "    }\n",
       "\n",
       "    .dataframe tbody tr th {\n",
       "        vertical-align: top;\n",
       "    }\n",
       "\n",
       "    .dataframe thead th {\n",
       "        text-align: right;\n",
       "    }\n",
       "</style>\n",
       "<table border=\"1\" class=\"dataframe\">\n",
       "  <thead>\n",
       "    <tr style=\"text-align: right;\">\n",
       "      <th></th>\n",
       "      <th>id</th>\n",
       "      <th>date</th>\n",
       "      <th>description</th>\n",
       "      <th>category</th>\n",
       "      <th>sub_category</th>\n",
       "      <th>amount</th>\n",
       "    </tr>\n",
       "  </thead>\n",
       "  <tbody>\n",
       "    <tr>\n",
       "      <th>135</th>\n",
       "      <td>142</td>\n",
       "      <td>2023-06-05 00:00:00</td>\n",
       "      <td>habits guerissol</td>\n",
       "      <td>Achats</td>\n",
       "      <td>vêtement</td>\n",
       "      <td>17.0</td>\n",
       "    </tr>\n",
       "    <tr>\n",
       "      <th>136</th>\n",
       "      <td>143</td>\n",
       "      <td>2023-06-05 00:00:00</td>\n",
       "      <td>baguettes</td>\n",
       "      <td>Alimentation</td>\n",
       "      <td>Courses</td>\n",
       "      <td>1.1</td>\n",
       "    </tr>\n",
       "    <tr>\n",
       "      <th>134</th>\n",
       "      <td>141</td>\n",
       "      <td>2023-06-05 00:00:00</td>\n",
       "      <td>courses</td>\n",
       "      <td>Alimentation</td>\n",
       "      <td>Courses</td>\n",
       "      <td>22.0</td>\n",
       "    </tr>\n",
       "    <tr>\n",
       "      <th>139</th>\n",
       "      <td>146</td>\n",
       "      <td>2023-06-05 00:00:00</td>\n",
       "      <td>bières tancrède</td>\n",
       "      <td>Les pêchés du soir</td>\n",
       "      <td>bar</td>\n",
       "      <td>13.0</td>\n",
       "    </tr>\n",
       "    <tr>\n",
       "      <th>133</th>\n",
       "      <td>140</td>\n",
       "      <td>2023-06-05 00:00:00</td>\n",
       "      <td>loyer Juin</td>\n",
       "      <td>Logement</td>\n",
       "      <td>Loyer</td>\n",
       "      <td>690.0</td>\n",
       "    </tr>\n",
       "    <tr>\n",
       "      <th>...</th>\n",
       "      <td>...</td>\n",
       "      <td>...</td>\n",
       "      <td>...</td>\n",
       "      <td>...</td>\n",
       "      <td>...</td>\n",
       "      <td>...</td>\n",
       "    </tr>\n",
       "    <tr>\n",
       "      <th>157</th>\n",
       "      <td>164</td>\n",
       "      <td>2023-08-22 00:00:00</td>\n",
       "      <td>ticket festival rennes</td>\n",
       "      <td>Entretien personnel</td>\n",
       "      <td>culture</td>\n",
       "      <td>49.9</td>\n",
       "    </tr>\n",
       "    <tr>\n",
       "      <th>155</th>\n",
       "      <td>162</td>\n",
       "      <td>2023-08-22 00:00:00</td>\n",
       "      <td>courses nems etc</td>\n",
       "      <td>Alimentation</td>\n",
       "      <td>Courses</td>\n",
       "      <td>19.0</td>\n",
       "    </tr>\n",
       "    <tr>\n",
       "      <th>156</th>\n",
       "      <td>163</td>\n",
       "      <td>2023-08-22 00:00:00</td>\n",
       "      <td>investissements aout</td>\n",
       "      <td>Épargne</td>\n",
       "      <td>investissement</td>\n",
       "      <td>50.0</td>\n",
       "    </tr>\n",
       "    <tr>\n",
       "      <th>158</th>\n",
       "      <td>165</td>\n",
       "      <td>2023-08-22 00:00:00</td>\n",
       "      <td>marlusse et lapin tournée</td>\n",
       "      <td>Les pêchés du soir</td>\n",
       "      <td>bar</td>\n",
       "      <td>28.0</td>\n",
       "    </tr>\n",
       "    <tr>\n",
       "      <th>159</th>\n",
       "      <td>166</td>\n",
       "      <td>09-12-1999</td>\n",
       "      <td>test csv</td>\n",
       "      <td>catego_test</td>\n",
       "      <td>sub catego test</td>\n",
       "      <td>39.0</td>\n",
       "    </tr>\n",
       "  </tbody>\n",
       "</table>\n",
       "<p>160 rows × 6 columns</p>\n",
       "</div>"
      ],
      "text/plain": [
       "      id                 date                description             category  \\\n",
       "135  142  2023-06-05 00:00:00           habits guerissol               Achats   \n",
       "136  143  2023-06-05 00:00:00                  baguettes         Alimentation   \n",
       "134  141  2023-06-05 00:00:00                    courses         Alimentation   \n",
       "139  146  2023-06-05 00:00:00            bières tancrède   Les pêchés du soir   \n",
       "133  140  2023-06-05 00:00:00                 loyer Juin             Logement   \n",
       "..   ...                  ...                        ...                  ...   \n",
       "157  164  2023-08-22 00:00:00     ticket festival rennes  Entretien personnel   \n",
       "155  162  2023-08-22 00:00:00           courses nems etc         Alimentation   \n",
       "156  163  2023-08-22 00:00:00       investissements aout              Épargne   \n",
       "158  165  2023-08-22 00:00:00  marlusse et lapin tournée   Les pêchés du soir   \n",
       "159  166           09-12-1999                   test csv          catego_test   \n",
       "\n",
       "        sub_category  amount  \n",
       "135         vêtement    17.0  \n",
       "136          Courses     1.1  \n",
       "134          Courses    22.0  \n",
       "139              bar    13.0  \n",
       "133            Loyer   690.0  \n",
       "..               ...     ...  \n",
       "157          culture    49.9  \n",
       "155          Courses    19.0  \n",
       "156   investissement    50.0  \n",
       "158              bar    28.0  \n",
       "159  sub catego test    39.0  \n",
       "\n",
       "[160 rows x 6 columns]"
      ]
     },
     "execution_count": 24,
     "metadata": {},
     "output_type": "execute_result"
    }
   ],
   "source": [
    "expenses_df"
   ]
  },
  {
   "cell_type": "code",
   "execution_count": 35,
   "metadata": {},
   "outputs": [
    {
     "data": {
      "text/plain": [
       "array([1])"
      ]
     },
     "execution_count": 35,
     "metadata": {},
     "output_type": "execute_result"
    }
   ],
   "source": [
    "df1.compare(df2, align_axis = 0).reset_index().level_0.unique()"
   ]
  },
  {
   "cell_type": "code",
   "execution_count": 33,
   "metadata": {},
   "outputs": [
    {
     "data": {
      "text/html": [
       "<div>\n",
       "<style scoped>\n",
       "    .dataframe tbody tr th:only-of-type {\n",
       "        vertical-align: middle;\n",
       "    }\n",
       "\n",
       "    .dataframe tbody tr th {\n",
       "        vertical-align: top;\n",
       "    }\n",
       "\n",
       "    .dataframe thead th {\n",
       "        text-align: right;\n",
       "    }\n",
       "</style>\n",
       "<table border=\"1\" class=\"dataframe\">\n",
       "  <thead>\n",
       "    <tr style=\"text-align: right;\">\n",
       "      <th></th>\n",
       "      <th></th>\n",
       "      <th>1</th>\n",
       "      <th>2</th>\n",
       "      <th>3</th>\n",
       "      <th>4</th>\n",
       "      <th>5</th>\n",
       "    </tr>\n",
       "  </thead>\n",
       "  <tbody>\n",
       "    <tr>\n",
       "      <th rowspan=\"2\" valign=\"top\">1</th>\n",
       "      <th>self</th>\n",
       "      <td>2023-08-12</td>\n",
       "      <td>Disque dur toshiba</td>\n",
       "      <td>Achats</td>\n",
       "      <td>électronique</td>\n",
       "      <td>69.99</td>\n",
       "    </tr>\n",
       "    <tr>\n",
       "      <th>other</th>\n",
       "      <td>3</td>\n",
       "      <td>2</td>\n",
       "      <td>3</td>\n",
       "      <td>3</td>\n",
       "      <td>4.00</td>\n",
       "    </tr>\n",
       "  </tbody>\n",
       "</table>\n",
       "</div>"
      ],
      "text/plain": [
       "                  1                   2       3             4      5\n",
       "1 self   2023-08-12  Disque dur toshiba  Achats  électronique  69.99\n",
       "  other           3                   2       3             3   4.00"
      ]
     },
     "execution_count": 33,
     "metadata": {},
     "output_type": "execute_result"
    }
   ],
   "source": [
    "df1.compare(df2, align_axis=0, keep_shape=False, keep_equal=False, result_names=('self', 'other'))\n",
    "\n"
   ]
  },
  {
   "cell_type": "code",
   "execution_count": 18,
   "metadata": {},
   "outputs": [],
   "source": [
    "d = {1: 'a', 2:'z'}"
   ]
  },
  {
   "cell_type": "code",
   "execution_count": 20,
   "metadata": {},
   "outputs": [
    {
     "data": {
      "text/plain": [
       "(1, 2)"
      ]
     },
     "execution_count": 20,
     "metadata": {},
     "output_type": "execute_result"
    }
   ],
   "source": [
    "tuple([1,2])"
   ]
  },
  {
   "cell_type": "code",
   "execution_count": 17,
   "metadata": {},
   "outputs": [
    {
     "data": {
      "text/plain": [
       "['a', 'b']"
      ]
     },
     "execution_count": 17,
     "metadata": {},
     "output_type": "execute_result"
    }
   ],
   "source": [
    "[col for col in ['a', 'b', 'id'] if col != 'id']"
   ]
  },
  {
   "cell_type": "code",
   "execution_count": 16,
   "metadata": {},
   "outputs": [
    {
     "data": {
      "text/html": [
       "<div>\n",
       "<style scoped>\n",
       "    .dataframe tbody tr th:only-of-type {\n",
       "        vertical-align: middle;\n",
       "    }\n",
       "\n",
       "    .dataframe tbody tr th {\n",
       "        vertical-align: top;\n",
       "    }\n",
       "\n",
       "    .dataframe thead th {\n",
       "        text-align: right;\n",
       "    }\n",
       "</style>\n",
       "<table border=\"1\" class=\"dataframe\">\n",
       "  <thead>\n",
       "    <tr style=\"text-align: right;\">\n",
       "      <th></th>\n",
       "      <th>id</th>\n",
       "      <th>date</th>\n",
       "      <th>description</th>\n",
       "      <th>category</th>\n",
       "      <th>sub_category</th>\n",
       "      <th>amount</th>\n",
       "    </tr>\n",
       "  </thead>\n",
       "  <tbody>\n",
       "    <tr>\n",
       "      <th>0</th>\n",
       "      <td>1</td>\n",
       "      <td>2023-08-12</td>\n",
       "      <td>Camping séminaires Descartes</td>\n",
       "      <td>Vacances</td>\n",
       "      <td>logement</td>\n",
       "      <td>97.00</td>\n",
       "    </tr>\n",
       "    <tr>\n",
       "      <th>1</th>\n",
       "      <td>2</td>\n",
       "      <td>2023-08-12</td>\n",
       "      <td>Disque dur toshiba</td>\n",
       "      <td>Achats</td>\n",
       "      <td>électronique</td>\n",
       "      <td>69.99</td>\n",
       "    </tr>\n",
       "    <tr>\n",
       "      <th>2</th>\n",
       "      <td>3</td>\n",
       "      <td>2023-08-11</td>\n",
       "      <td>inconnu</td>\n",
       "      <td>Autres</td>\n",
       "      <td>inconnu</td>\n",
       "      <td>1.50</td>\n",
       "    </tr>\n",
       "    <tr>\n",
       "      <th>3</th>\n",
       "      <td>4</td>\n",
       "      <td>2023-08-08</td>\n",
       "      <td>bar descartes</td>\n",
       "      <td>Les pêchés du soir</td>\n",
       "      <td>bar</td>\n",
       "      <td>18.00</td>\n",
       "    </tr>\n",
       "    <tr>\n",
       "      <th>4</th>\n",
       "      <td>5</td>\n",
       "      <td>2023-08-08</td>\n",
       "      <td>tabac</td>\n",
       "      <td>Les pêchés du soir</td>\n",
       "      <td>tabac</td>\n",
       "      <td>20.10</td>\n",
       "    </tr>\n",
       "    <tr>\n",
       "      <th>5</th>\n",
       "      <td>6</td>\n",
       "      <td>2023-08-07</td>\n",
       "      <td>chaussures</td>\n",
       "      <td>Achats</td>\n",
       "      <td>vêtement</td>\n",
       "      <td>10.00</td>\n",
       "    </tr>\n",
       "    <tr>\n",
       "      <th>6</th>\n",
       "      <td>7</td>\n",
       "      <td>2023-08-07</td>\n",
       "      <td>franprix courses</td>\n",
       "      <td>Alimentation</td>\n",
       "      <td>Courses</td>\n",
       "      <td>16.03</td>\n",
       "    </tr>\n",
       "    <tr>\n",
       "      <th>7</th>\n",
       "      <td>8</td>\n",
       "      <td>2023-08-07</td>\n",
       "      <td>clope electro</td>\n",
       "      <td>Achats</td>\n",
       "      <td>CE</td>\n",
       "      <td>17.80</td>\n",
       "    </tr>\n",
       "    <tr>\n",
       "      <th>8</th>\n",
       "      <td>9</td>\n",
       "      <td>2023-08-07</td>\n",
       "      <td>Kebab falafel</td>\n",
       "      <td>Les pêchés du soir</td>\n",
       "      <td>Kebab</td>\n",
       "      <td>17.00</td>\n",
       "    </tr>\n",
       "    <tr>\n",
       "      <th>9</th>\n",
       "      <td>10</td>\n",
       "      <td>2023-08-03</td>\n",
       "      <td>coupe vent rouge</td>\n",
       "      <td>Achats</td>\n",
       "      <td>vêtement</td>\n",
       "      <td>8.83</td>\n",
       "    </tr>\n",
       "    <tr>\n",
       "      <th>10</th>\n",
       "      <td>11</td>\n",
       "      <td>2023-08-03</td>\n",
       "      <td>loyer aout</td>\n",
       "      <td>Logement</td>\n",
       "      <td>Loyer</td>\n",
       "      <td>690.00</td>\n",
       "    </tr>\n",
       "    <tr>\n",
       "      <th>11</th>\n",
       "      <td>12</td>\n",
       "      <td>2023-08-02</td>\n",
       "      <td>courses</td>\n",
       "      <td>Alimentation</td>\n",
       "      <td>Courses</td>\n",
       "      <td>7.50</td>\n",
       "    </tr>\n",
       "    <tr>\n",
       "      <th>12</th>\n",
       "      <td>13</td>\n",
       "      <td>2023-08-02</td>\n",
       "      <td>Bouillon avec sacha (me doit 30 balles mdr)</td>\n",
       "      <td>Les pêchés du soir</td>\n",
       "      <td>restaurants</td>\n",
       "      <td>60.00</td>\n",
       "    </tr>\n",
       "    <tr>\n",
       "      <th>13</th>\n",
       "      <td>15</td>\n",
       "      <td>2023-07-31</td>\n",
       "      <td>retraits</td>\n",
       "      <td>Autres</td>\n",
       "      <td>retraits</td>\n",
       "      <td>10.00</td>\n",
       "    </tr>\n",
       "    <tr>\n",
       "      <th>14</th>\n",
       "      <td>16</td>\n",
       "      <td>2023-07-31</td>\n",
       "      <td>Antarius</td>\n",
       "      <td>Autres</td>\n",
       "      <td>Antarius</td>\n",
       "      <td>300.00</td>\n",
       "    </tr>\n",
       "    <tr>\n",
       "      <th>15</th>\n",
       "      <td>17</td>\n",
       "      <td>2023-07-31</td>\n",
       "      <td>retraits</td>\n",
       "      <td>Autres</td>\n",
       "      <td>retraits</td>\n",
       "      <td>30.00</td>\n",
       "    </tr>\n",
       "    <tr>\n",
       "      <th>16</th>\n",
       "      <td>18</td>\n",
       "      <td>2023-07-31</td>\n",
       "      <td>kebab</td>\n",
       "      <td>Les pêchés du soir</td>\n",
       "      <td>Kebab</td>\n",
       "      <td>8.50</td>\n",
       "    </tr>\n",
       "    <tr>\n",
       "      <th>17</th>\n",
       "      <td>19</td>\n",
       "      <td>2023-07-31</td>\n",
       "      <td>deauville croissants</td>\n",
       "      <td>Vacances</td>\n",
       "      <td>autres</td>\n",
       "      <td>7.30</td>\n",
       "    </tr>\n",
       "    <tr>\n",
       "      <th>18</th>\n",
       "      <td>20</td>\n",
       "      <td>2023-07-31</td>\n",
       "      <td>deauville autre</td>\n",
       "      <td>Vacances</td>\n",
       "      <td>autres</td>\n",
       "      <td>14.00</td>\n",
       "    </tr>\n",
       "    <tr>\n",
       "      <th>19</th>\n",
       "      <td>21</td>\n",
       "      <td>2023-07-31</td>\n",
       "      <td>deauville minigolf</td>\n",
       "      <td>Vacances</td>\n",
       "      <td>activités</td>\n",
       "      <td>40.00</td>\n",
       "    </tr>\n",
       "    <tr>\n",
       "      <th>20</th>\n",
       "      <td>22</td>\n",
       "      <td>2023-07-28</td>\n",
       "      <td>carte commune</td>\n",
       "      <td>Alimentation</td>\n",
       "      <td>virement compte commun</td>\n",
       "      <td>200.00</td>\n",
       "    </tr>\n",
       "    <tr>\n",
       "      <th>21</th>\n",
       "      <td>23</td>\n",
       "      <td>2023-07-28</td>\n",
       "      <td>resto indien</td>\n",
       "      <td>Les pêchés du soir</td>\n",
       "      <td>restaurants</td>\n",
       "      <td>25.75</td>\n",
       "    </tr>\n",
       "  </tbody>\n",
       "</table>\n",
       "</div>"
      ],
      "text/plain": [
       "    id        date                                  description  \\\n",
       "0    1  2023-08-12                 Camping séminaires Descartes   \n",
       "1    2  2023-08-12                           Disque dur toshiba   \n",
       "2    3  2023-08-11                                      inconnu   \n",
       "3    4  2023-08-08                                bar descartes   \n",
       "4    5  2023-08-08                                       tabac    \n",
       "5    6  2023-08-07                                   chaussures   \n",
       "6    7  2023-08-07                             franprix courses   \n",
       "7    8  2023-08-07                                clope electro   \n",
       "8    9  2023-08-07                                Kebab falafel   \n",
       "9   10  2023-08-03                             coupe vent rouge   \n",
       "10  11  2023-08-03                                   loyer aout   \n",
       "11  12  2023-08-02                                      courses   \n",
       "12  13  2023-08-02  Bouillon avec sacha (me doit 30 balles mdr)   \n",
       "13  15  2023-07-31                                     retraits   \n",
       "14  16  2023-07-31                                     Antarius   \n",
       "15  17  2023-07-31                                     retraits   \n",
       "16  18  2023-07-31                                        kebab   \n",
       "17  19  2023-07-31                         deauville croissants   \n",
       "18  20  2023-07-31                              deauville autre   \n",
       "19  21  2023-07-31                           deauville minigolf   \n",
       "20  22  2023-07-28                                carte commune   \n",
       "21  23  2023-07-28                                 resto indien   \n",
       "\n",
       "              category            sub_category  amount  \n",
       "0             Vacances                logement   97.00  \n",
       "1               Achats            électronique   69.99  \n",
       "2               Autres                 inconnu    1.50  \n",
       "3   Les pêchés du soir                     bar   18.00  \n",
       "4   Les pêchés du soir                   tabac   20.10  \n",
       "5               Achats                vêtement   10.00  \n",
       "6         Alimentation                 Courses   16.03  \n",
       "7               Achats                      CE   17.80  \n",
       "8   Les pêchés du soir                   Kebab   17.00  \n",
       "9               Achats                vêtement    8.83  \n",
       "10            Logement                   Loyer  690.00  \n",
       "11        Alimentation                 Courses    7.50  \n",
       "12  Les pêchés du soir             restaurants   60.00  \n",
       "13              Autres                retraits   10.00  \n",
       "14              Autres                Antarius  300.00  \n",
       "15              Autres                retraits   30.00  \n",
       "16  Les pêchés du soir                   Kebab    8.50  \n",
       "17            Vacances                  autres    7.30  \n",
       "18            Vacances                  autres   14.00  \n",
       "19            Vacances               activités   40.00  \n",
       "20        Alimentation  virement compte commun  200.00  \n",
       "21  Les pêchés du soir             restaurants   25.75  "
      ]
     },
     "execution_count": 16,
     "metadata": {},
     "output_type": "execute_result"
    }
   ],
   "source": [
    "pd.DataFrame(table_data, columns=column_names.values())"
   ]
  },
  {
   "cell_type": "code",
   "execution_count": 37,
   "metadata": {},
   "outputs": [],
   "source": [
    "CONN.close()"
   ]
  },
  {
   "cell_type": "code",
   "execution_count": 26,
   "metadata": {},
   "outputs": [],
   "source": [
    "with open(DATA_PATH / 'categories.json', 'r') as json_file:\n",
    "    data = json.load(json_file)"
   ]
  },
  {
   "cell_type": "code",
   "execution_count": 27,
   "metadata": {},
   "outputs": [
    {
     "data": {
      "text/plain": [
       "<sqlite3.Cursor at 0x7fed5087c340>"
      ]
     },
     "execution_count": 27,
     "metadata": {},
     "output_type": "execute_result"
    }
   ],
   "source": [
    "# Create the users table if it doesn't exist\n",
    "CURSOR.execute('''\n",
    "    CREATE TABLE IF NOT EXISTS expenses (\n",
    "    id INTEGER PRIMARY KEY,\n",
    "    date DATE,\n",
    "    description TEXT,\n",
    "    category TEXT,\n",
    "    sub_category TEXT,\n",
    "    amount REAL\n",
    ");\n",
    "''')"
   ]
  },
  {
   "cell_type": "code",
   "execution_count": 28,
   "metadata": {},
   "outputs": [
    {
     "data": {
      "text/plain": [
       "<sqlite3.Cursor at 0x7fed5087c340>"
      ]
     },
     "execution_count": 28,
     "metadata": {},
     "output_type": "execute_result"
    }
   ],
   "source": [
    "CURSOR.execute('''\n",
    "    CREATE TABLE IF NOT EXISTS recettes (\n",
    "    id INTEGER PRIMARY KEY,\n",
    "    date DATE,\n",
    "    description TEXT,\n",
    "    category TEXT,\n",
    "    amount REAL\n",
    ");\n",
    "''')"
   ]
  },
  {
   "cell_type": "code",
   "execution_count": 31,
   "metadata": {},
   "outputs": [
    {
     "data": {
      "text/plain": [
       "<sqlite3.Cursor at 0x7fed5087c340>"
      ]
     },
     "execution_count": 31,
     "metadata": {},
     "output_type": "execute_result"
    }
   ],
   "source": [
    "# Form inputs\n",
    "spending_date =  date.today()\n",
    "description = \"test\"\n",
    "category = \"test\"\n",
    "sub_cat = \"test\"\n",
    "amount = 74\n",
    "\n",
    "CURSOR.execute(\"INSERT INTO expenses (date, description, category, sub_category, amount) VALUES (?, ?, ?, ?, ?)\",\n",
    "            (spending_date, description, category, sub_cat, amount))"
   ]
  },
  {
   "cell_type": "code",
   "execution_count": 33,
   "metadata": {},
   "outputs": [
    {
     "name": "stdout",
     "output_type": "stream",
     "text": [
      "(1, '2023-08-15', 'test', 'test', 'test', 74.0)\n"
     ]
    }
   ],
   "source": [
    "# Fetch all expenses from the database\n",
    "CURSOR.execute(\"SELECT * FROM expenses\")\n",
    "expenses = CURSOR.fetchall()\n",
    "\n",
    "# Print the fetched expenses\n",
    "for expense in expenses:\n",
    "    print(expense)"
   ]
  },
  {
   "cell_type": "code",
   "execution_count": 35,
   "metadata": {},
   "outputs": [],
   "source": [
    "CURSOR.close(\n",
    ")"
   ]
  },
  {
   "cell_type": "code",
   "execution_count": 36,
   "metadata": {},
   "outputs": [
    {
     "data": {
      "text/plain": [
       "<sqlite3.Cursor at 0x7fed5087c340>"
      ]
     },
     "execution_count": 36,
     "metadata": {},
     "output_type": "execute_result"
    }
   ],
   "source": [
    "CURSOR"
   ]
  },
  {
   "cell_type": "code",
   "execution_count": null,
   "metadata": {},
   "outputs": [],
   "source": []
  }
 ],
 "metadata": {
  "kernelspec": {
   "display_name": "Python 3.10.12 ('my_account')",
   "language": "python",
   "name": "python3"
  },
  "language_info": {
   "codemirror_mode": {
    "name": "ipython",
    "version": 3
   },
   "file_extension": ".py",
   "mimetype": "text/x-python",
   "name": "python",
   "nbconvert_exporter": "python",
   "pygments_lexer": "ipython3",
   "version": "3.10.12"
  },
  "orig_nbformat": 4,
  "vscode": {
   "interpreter": {
    "hash": "fb43f5127a4f3020eb6e5e26c81723d8414011d01a62c58f1ef69b42dd1fe726"
   }
  }
 },
 "nbformat": 4,
 "nbformat_minor": 2
}
