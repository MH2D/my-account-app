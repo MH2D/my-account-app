{
 "cells": [
  {
   "cell_type": "code",
   "execution_count": 1,
   "metadata": {},
   "outputs": [],
   "source": [
    "import streamlit as st\n",
    "import pandas as pd\n",
    "import altair as alt\n",
    "from utils.global_utils import *\n",
    "import numpy as np"
   ]
  },
  {
   "cell_type": "code",
   "execution_count": 6,
   "metadata": {},
   "outputs": [],
   "source": [
    "from pyicloud import PyiCloudService\n",
    "import os\n",
    "import click\n",
    "import datetime"
   ]
  },
  {
   "cell_type": "code",
   "execution_count": 7,
   "metadata": {},
   "outputs": [
    {
     "name": "stdout",
     "output_type": "stream",
     "text": [
      "Two-factor authentication required. Your trusted devices are:\n",
      "Which device would you like to use? [0]:"
     ]
    }
   ],
   "source": [
    "api = PyiCloudService('ugo.muhi@gmail.com', 'Akfarfila17!')\n",
    "if api.requires_2fa:\n",
    "    print(\"Two-factor authentication required. Your trusted devices are:\")\n",
    "\n",
    "    devices = api.trusted_devices\n",
    "    for i, device in enumerate(devices):\n",
    "        print(\n",
    "            \"  %s: %s\"\n",
    "            % (i, device.get(\"deviceName\", \"SMS to %s\" % device.get(\"phoneNumber\")))\n",
    "        )\n",
    "\n",
    "    device = click.prompt(\"Which device would you like to use?\", default=0)\n",
    "    device = devices[device]\n",
    "    if not api.send_verification_code(device):\n",
    "        print(\"Failed to send verification code\")\n",
    "        sys.exit(1)\n",
    "\n",
    "    code = click.prompt(\"Please enter validation code\")\n",
    "    if not api.validate_verification_code(device, code):\n",
    "        print(\"Failed to verify verification code\")\n",
    "        sys.exit(1)"
   ]
  },
  {
   "cell_type": "code",
   "execution_count": 10,
   "metadata": {},
   "outputs": [],
   "source": [
    "CONN, CURSOR = start_db(DB_NAME, DATA_PATH=DATA_PATH)\n",
    "expense_df =  get_df_from_table(CONN, CURSOR, table_name='expenses')\n",
    "expense_df = expense_df.set_index('date')\n",
    "\n"
   ]
  },
  {
   "cell_type": "code",
   "execution_count": 18,
   "metadata": {},
   "outputs": [],
   "source": [
    "series_mth = []\n",
    "for table_name in ['recettes', 'expenses']:\n",
    "    df =  get_df_from_table(CONN, CURSOR, table_name=table_name)\n",
    "    df = df.set_index('date')\n",
    "    mth_data = df.groupby(pd.Grouper(freq='1m'))['amount'].sum()\n",
    "    mth_data.name = table_name\n",
    "    series_mth.append(mth_data)\n",
    "total_mnthly = pd.concat(series_mth, axis=1)\n"
   ]
  },
  {
   "cell_type": "code",
   "execution_count": 19,
   "metadata": {},
   "outputs": [
    {
     "data": {
      "text/html": [
       "<div>\n",
       "<style scoped>\n",
       "    .dataframe tbody tr th:only-of-type {\n",
       "        vertical-align: middle;\n",
       "    }\n",
       "\n",
       "    .dataframe tbody tr th {\n",
       "        vertical-align: top;\n",
       "    }\n",
       "\n",
       "    .dataframe thead th {\n",
       "        text-align: right;\n",
       "    }\n",
       "</style>\n",
       "<table border=\"1\" class=\"dataframe\">\n",
       "  <thead>\n",
       "    <tr style=\"text-align: right;\">\n",
       "      <th></th>\n",
       "      <th>recettes</th>\n",
       "      <th>expenses</th>\n",
       "    </tr>\n",
       "    <tr>\n",
       "      <th>date</th>\n",
       "      <th></th>\n",
       "      <th></th>\n",
       "    </tr>\n",
       "  </thead>\n",
       "  <tbody>\n",
       "    <tr>\n",
       "      <th>2023-07-31</th>\n",
       "      <td>2422.56</td>\n",
       "      <td>2130.55</td>\n",
       "    </tr>\n",
       "    <tr>\n",
       "      <th>2023-08-31</th>\n",
       "      <td>1272.56</td>\n",
       "      <td>1137.75</td>\n",
       "    </tr>\n",
       "  </tbody>\n",
       "</table>\n",
       "</div>"
      ],
      "text/plain": [
       "            recettes  expenses\n",
       "date                          \n",
       "2023-07-31   2422.56   2130.55\n",
       "2023-08-31   1272.56   1137.75"
      ]
     },
     "execution_count": 19,
     "metadata": {},
     "output_type": "execute_result"
    }
   ],
   "source": [
    "total_mnthly"
   ]
  },
  {
   "cell_type": "code",
   "execution_count": null,
   "metadata": {},
   "outputs": [],
   "source": []
  }
 ],
 "metadata": {
  "kernelspec": {
   "display_name": "Python 3.10.12 ('my_account')",
   "language": "python",
   "name": "python3"
  },
  "language_info": {
   "codemirror_mode": {
    "name": "ipython",
    "version": 3
   },
   "file_extension": ".py",
   "mimetype": "text/x-python",
   "name": "python",
   "nbconvert_exporter": "python",
   "pygments_lexer": "ipython3",
   "version": "3.10.12"
  },
  "orig_nbformat": 4,
  "vscode": {
   "interpreter": {
    "hash": "fb43f5127a4f3020eb6e5e26c81723d8414011d01a62c58f1ef69b42dd1fe726"
   }
  }
 },
 "nbformat": 4,
 "nbformat_minor": 2
}
